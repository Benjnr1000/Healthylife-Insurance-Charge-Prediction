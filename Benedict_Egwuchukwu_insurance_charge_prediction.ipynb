{
 "cells": [
  {
   "cell_type": "markdown",
   "metadata": {
    "application/vnd.databricks.v1+cell": {
     "cellMetadata": {},
     "inputWidgets": {},
     "nuid": "0cb5ef7a-9e51-4567-8c10-a3db1097b933",
     "showTitle": false,
     "title": ""
    },
    "id": "_qN9He6rIr6V"
   },
   "source": [
    "# Healthylife insurance charge prediction - Project 2\n",
    "\n",
    "## Problem Statement\n",
    "HealthyLife is a leading insurance company headquartered in New York City, serving customers nationwide with a range of insurance policies, including health, auto, and life insurance. Currently, the company relies on traditional methods to assess insurance charges based on customer details such as age, sex, and BMI. However, they face challenges in accurately predicting insurance charges due to limited insights into how different customer attributes impact premiums. This uncertainty leads to potential underpricing or overpricing of policies, affecting both profitability and customer satisfaction. To address these challenges, the company is looking to leverage advanced predictive modeling techniques to enhance its insurance charge estimation process and provide more accurate and personalized pricing to customers.\n",
    "\n",
    "## Objective\n",
    "As a Data Scientist hired by the insurance company, the objective is to develop an app and implement a predictive model for estimating insurance charges based on customer attributes. The primary challenges to solve include improving the accuracy of insurance charge predictions by incorporating various customer attributes, streamlining the underwriting process to enhance efficiency and customer experience, and maintaining regulatory compliance while optimizing pricing strategies also analyze and identify the driftness in model and data to understand the model behavior overtime\n",
    "\n",
    "By achieving these objectives\n",
    "\n",
    "\n",
    "*   We aim to achieve more accurate and personalized insurance charge estimations\n",
    "*   Reducing the risks of underpricing and overpricing\n",
    "*   Improve customer satisfaction and loyalty through fair and competitive pricing\n",
    "*   Ensuring transparency and compliance with regulatory requirements in pricing strategies will further strengthen our competitive position in the market and enhance overall business performance\n",
    "\n",
    "\n",
    "\n",
    "\n",
    "\n",
    "\n"
   ]
  },
  {
   "cell_type": "markdown",
   "metadata": {
    "application/vnd.databricks.v1+cell": {
     "cellMetadata": {},
     "inputWidgets": {},
     "nuid": "b400c9af-eb88-48be-b024-2404852e3277",
     "showTitle": false,
     "title": ""
    },
    "id": "tUPXEl4CIr6Z"
   },
   "source": [
    "\n",
    "### Import the required libraries"
   ]
  },
  {
   "cell_type": "code",
   "execution_count": 1,
   "metadata": {
    "application/vnd.databricks.v1+cell": {
     "cellMetadata": {
      "byteLimit": 2048000,
      "rowLimit": 10000
     },
     "inputWidgets": {},
     "nuid": "69c6950d-190a-4c7d-a5a2-a42164f4833b",
     "showTitle": false,
     "title": ""
    },
    "id": "HHLvdMVqIr6a"
   },
   "outputs": [],
   "source": [
    "import pandas as pd\n",
    "import numpy as np\n",
    "import matplotlib.pyplot as plt\n",
    "import sklearn\n",
    "import joblib\n",
    "\n",
    "# Fetching dataset from sklearn's openml module\n",
    "from sklearn.datasets import fetch_openml\n",
    "\n",
    "# Importing preprocessing modules from sklearn\n",
    "from sklearn.preprocessing import StandardScaler, OneHotEncoder\n",
    "from sklearn.compose import make_column_transformer\n",
    "\n",
    "# Importing make_pipeline function from pipeline module\n",
    "from sklearn.pipeline import make_pipeline\n",
    "\n",
    "# Importing train_test_split from model_selection module\n",
    "from sklearn.model_selection import train_test_split\n",
    "\n",
    "# Importing LinearRegression model and evaluation metrics from linear_model and metrics modules\n",
    "from sklearn.linear_model import LinearRegression\n",
    "from sklearn.metrics import mean_squared_error, r2_score\n",
    "\n",
    "# Configure scikit-learn to display pipeline diagrams for visualizing the structure of machine learning pipelines\n",
    "sklearn.set_config(display='diagram')\n",
    "\n",
    "from warnings import filterwarnings\n",
    "filterwarnings('ignore')"
   ]
  },
  {
   "cell_type": "markdown",
   "metadata": {
    "application/vnd.databricks.v1+cell": {
     "cellMetadata": {},
     "inputWidgets": {},
     "nuid": "c6c273cf-1eb1-4631-9938-0935c87034c6",
     "showTitle": false,
     "title": ""
    },
    "id": "7FiBsl6wIr6c"
   },
   "source": [
    "## Import the Data"
   ]
  },
  {
   "cell_type": "code",
   "execution_count": 2,
   "metadata": {
    "application/vnd.databricks.v1+cell": {
     "cellMetadata": {
      "byteLimit": 2048000,
      "rowLimit": 10000
     },
     "inputWidgets": {},
     "nuid": "de73d795-30fe-4891-8a22-2356863aaef3",
     "showTitle": false,
     "title": ""
    },
    "id": "2SevoX_RIr6c"
   },
   "outputs": [
    {
     "data": {
      "text/html": [
       "<div>\n",
       "<style scoped>\n",
       "    .dataframe tbody tr th:only-of-type {\n",
       "        vertical-align: middle;\n",
       "    }\n",
       "\n",
       "    .dataframe tbody tr th {\n",
       "        vertical-align: top;\n",
       "    }\n",
       "\n",
       "    .dataframe thead th {\n",
       "        text-align: right;\n",
       "    }\n",
       "</style>\n",
       "<table border=\"1\" class=\"dataframe\">\n",
       "  <thead>\n",
       "    <tr style=\"text-align: right;\">\n",
       "      <th></th>\n",
       "      <th>index</th>\n",
       "      <th>age</th>\n",
       "      <th>sex</th>\n",
       "      <th>bmi</th>\n",
       "      <th>children</th>\n",
       "      <th>smoker</th>\n",
       "      <th>region</th>\n",
       "      <th>charges</th>\n",
       "    </tr>\n",
       "  </thead>\n",
       "  <tbody>\n",
       "    <tr>\n",
       "      <th>0</th>\n",
       "      <td>0</td>\n",
       "      <td>19</td>\n",
       "      <td>female</td>\n",
       "      <td>27.900</td>\n",
       "      <td>0</td>\n",
       "      <td>yes</td>\n",
       "      <td>southwest</td>\n",
       "      <td>16884.92400</td>\n",
       "    </tr>\n",
       "    <tr>\n",
       "      <th>1</th>\n",
       "      <td>1</td>\n",
       "      <td>18</td>\n",
       "      <td>male</td>\n",
       "      <td>33.770</td>\n",
       "      <td>1</td>\n",
       "      <td>no</td>\n",
       "      <td>southeast</td>\n",
       "      <td>1725.55230</td>\n",
       "    </tr>\n",
       "    <tr>\n",
       "      <th>2</th>\n",
       "      <td>2</td>\n",
       "      <td>28</td>\n",
       "      <td>male</td>\n",
       "      <td>33.000</td>\n",
       "      <td>3</td>\n",
       "      <td>no</td>\n",
       "      <td>southeast</td>\n",
       "      <td>4449.46200</td>\n",
       "    </tr>\n",
       "    <tr>\n",
       "      <th>3</th>\n",
       "      <td>3</td>\n",
       "      <td>33</td>\n",
       "      <td>male</td>\n",
       "      <td>22.705</td>\n",
       "      <td>0</td>\n",
       "      <td>no</td>\n",
       "      <td>northwest</td>\n",
       "      <td>21984.47061</td>\n",
       "    </tr>\n",
       "    <tr>\n",
       "      <th>4</th>\n",
       "      <td>4</td>\n",
       "      <td>32</td>\n",
       "      <td>male</td>\n",
       "      <td>28.880</td>\n",
       "      <td>0</td>\n",
       "      <td>no</td>\n",
       "      <td>northwest</td>\n",
       "      <td>3866.85520</td>\n",
       "    </tr>\n",
       "    <tr>\n",
       "      <th>...</th>\n",
       "      <td>...</td>\n",
       "      <td>...</td>\n",
       "      <td>...</td>\n",
       "      <td>...</td>\n",
       "      <td>...</td>\n",
       "      <td>...</td>\n",
       "      <td>...</td>\n",
       "      <td>...</td>\n",
       "    </tr>\n",
       "    <tr>\n",
       "      <th>1333</th>\n",
       "      <td>1333</td>\n",
       "      <td>50</td>\n",
       "      <td>male</td>\n",
       "      <td>30.970</td>\n",
       "      <td>3</td>\n",
       "      <td>no</td>\n",
       "      <td>northwest</td>\n",
       "      <td>10600.54830</td>\n",
       "    </tr>\n",
       "    <tr>\n",
       "      <th>1334</th>\n",
       "      <td>1334</td>\n",
       "      <td>18</td>\n",
       "      <td>female</td>\n",
       "      <td>31.920</td>\n",
       "      <td>0</td>\n",
       "      <td>no</td>\n",
       "      <td>northeast</td>\n",
       "      <td>2205.98080</td>\n",
       "    </tr>\n",
       "    <tr>\n",
       "      <th>1335</th>\n",
       "      <td>1335</td>\n",
       "      <td>18</td>\n",
       "      <td>female</td>\n",
       "      <td>36.850</td>\n",
       "      <td>0</td>\n",
       "      <td>no</td>\n",
       "      <td>southeast</td>\n",
       "      <td>1629.83350</td>\n",
       "    </tr>\n",
       "    <tr>\n",
       "      <th>1336</th>\n",
       "      <td>1336</td>\n",
       "      <td>21</td>\n",
       "      <td>female</td>\n",
       "      <td>25.800</td>\n",
       "      <td>0</td>\n",
       "      <td>no</td>\n",
       "      <td>southwest</td>\n",
       "      <td>2007.94500</td>\n",
       "    </tr>\n",
       "    <tr>\n",
       "      <th>1337</th>\n",
       "      <td>1337</td>\n",
       "      <td>61</td>\n",
       "      <td>female</td>\n",
       "      <td>29.070</td>\n",
       "      <td>0</td>\n",
       "      <td>yes</td>\n",
       "      <td>northwest</td>\n",
       "      <td>29141.36030</td>\n",
       "    </tr>\n",
       "  </tbody>\n",
       "</table>\n",
       "<p>1338 rows × 8 columns</p>\n",
       "</div>"
      ],
      "text/plain": [
       "      index  age     sex     bmi  children smoker     region      charges\n",
       "0         0   19  female  27.900         0    yes  southwest  16884.92400\n",
       "1         1   18    male  33.770         1     no  southeast   1725.55230\n",
       "2         2   28    male  33.000         3     no  southeast   4449.46200\n",
       "3         3   33    male  22.705         0     no  northwest  21984.47061\n",
       "4         4   32    male  28.880         0     no  northwest   3866.85520\n",
       "...     ...  ...     ...     ...       ...    ...        ...          ...\n",
       "1333   1333   50    male  30.970         3     no  northwest  10600.54830\n",
       "1334   1334   18  female  31.920         0     no  northeast   2205.98080\n",
       "1335   1335   18  female  36.850         0     no  southeast   1629.83350\n",
       "1336   1336   21  female  25.800         0     no  southwest   2007.94500\n",
       "1337   1337   61  female  29.070         0    yes  northwest  29141.36030\n",
       "\n",
       "[1338 rows x 8 columns]"
      ]
     },
     "execution_count": 2,
     "metadata": {},
     "output_type": "execute_result"
    }
   ],
   "source": [
    "# Read data\n",
    "df = pd.read_csv('insurance.csv')\n",
    "df"
   ]
  },
  {
   "cell_type": "code",
   "execution_count": 3,
   "metadata": {
    "id": "ma5FcX253xB3"
   },
   "outputs": [
    {
     "name": "stdout",
     "output_type": "stream",
     "text": [
      "Index(['age', 'bmi', 'children'], dtype='object')\n",
      "Index(['sex', 'smoker', 'region'], dtype='object')\n",
      "Index(['charges'], dtype='object')\n"
     ]
    }
   ],
   "source": [
    "# split data in to numerical and categorical\n",
    "numerical_features = df[[\"age\", \"bmi\", \"children\"]].columns\n",
    "print(numerical_features)\n",
    "categorical_features = df[[\"sex\", \"smoker\", \"region\"]].columns\n",
    "print(categorical_features)\n",
    "target = df[[\"charges\"]].columns\n",
    "print(target)"
   ]
  },
  {
   "cell_type": "code",
   "execution_count": 4,
   "metadata": {
    "id": "n1xa7yKN32pW"
   },
   "outputs": [
    {
     "data": {
      "text/html": [
       "<div>\n",
       "<style scoped>\n",
       "    .dataframe tbody tr th:only-of-type {\n",
       "        vertical-align: middle;\n",
       "    }\n",
       "\n",
       "    .dataframe tbody tr th {\n",
       "        vertical-align: top;\n",
       "    }\n",
       "\n",
       "    .dataframe thead th {\n",
       "        text-align: right;\n",
       "    }\n",
       "</style>\n",
       "<table border=\"1\" class=\"dataframe\">\n",
       "  <thead>\n",
       "    <tr style=\"text-align: right;\">\n",
       "      <th></th>\n",
       "      <th>index</th>\n",
       "      <th>age</th>\n",
       "      <th>sex</th>\n",
       "      <th>bmi</th>\n",
       "      <th>children</th>\n",
       "      <th>smoker</th>\n",
       "      <th>region</th>\n",
       "      <th>charges</th>\n",
       "    </tr>\n",
       "  </thead>\n",
       "  <tbody>\n",
       "    <tr>\n",
       "      <th>count</th>\n",
       "      <td>1338.000000</td>\n",
       "      <td>1338.000000</td>\n",
       "      <td>1338</td>\n",
       "      <td>1338.000000</td>\n",
       "      <td>1338.000000</td>\n",
       "      <td>1338</td>\n",
       "      <td>1338</td>\n",
       "      <td>1338.000000</td>\n",
       "    </tr>\n",
       "    <tr>\n",
       "      <th>unique</th>\n",
       "      <td>NaN</td>\n",
       "      <td>NaN</td>\n",
       "      <td>2</td>\n",
       "      <td>NaN</td>\n",
       "      <td>NaN</td>\n",
       "      <td>2</td>\n",
       "      <td>4</td>\n",
       "      <td>NaN</td>\n",
       "    </tr>\n",
       "    <tr>\n",
       "      <th>top</th>\n",
       "      <td>NaN</td>\n",
       "      <td>NaN</td>\n",
       "      <td>male</td>\n",
       "      <td>NaN</td>\n",
       "      <td>NaN</td>\n",
       "      <td>no</td>\n",
       "      <td>southeast</td>\n",
       "      <td>NaN</td>\n",
       "    </tr>\n",
       "    <tr>\n",
       "      <th>freq</th>\n",
       "      <td>NaN</td>\n",
       "      <td>NaN</td>\n",
       "      <td>676</td>\n",
       "      <td>NaN</td>\n",
       "      <td>NaN</td>\n",
       "      <td>1064</td>\n",
       "      <td>364</td>\n",
       "      <td>NaN</td>\n",
       "    </tr>\n",
       "    <tr>\n",
       "      <th>mean</th>\n",
       "      <td>668.500000</td>\n",
       "      <td>39.207025</td>\n",
       "      <td>NaN</td>\n",
       "      <td>30.663397</td>\n",
       "      <td>1.094918</td>\n",
       "      <td>NaN</td>\n",
       "      <td>NaN</td>\n",
       "      <td>13270.422265</td>\n",
       "    </tr>\n",
       "    <tr>\n",
       "      <th>std</th>\n",
       "      <td>386.391641</td>\n",
       "      <td>14.049960</td>\n",
       "      <td>NaN</td>\n",
       "      <td>6.098187</td>\n",
       "      <td>1.205493</td>\n",
       "      <td>NaN</td>\n",
       "      <td>NaN</td>\n",
       "      <td>12110.011237</td>\n",
       "    </tr>\n",
       "    <tr>\n",
       "      <th>min</th>\n",
       "      <td>0.000000</td>\n",
       "      <td>18.000000</td>\n",
       "      <td>NaN</td>\n",
       "      <td>15.960000</td>\n",
       "      <td>0.000000</td>\n",
       "      <td>NaN</td>\n",
       "      <td>NaN</td>\n",
       "      <td>1121.873900</td>\n",
       "    </tr>\n",
       "    <tr>\n",
       "      <th>25%</th>\n",
       "      <td>334.250000</td>\n",
       "      <td>27.000000</td>\n",
       "      <td>NaN</td>\n",
       "      <td>26.296250</td>\n",
       "      <td>0.000000</td>\n",
       "      <td>NaN</td>\n",
       "      <td>NaN</td>\n",
       "      <td>4740.287150</td>\n",
       "    </tr>\n",
       "    <tr>\n",
       "      <th>50%</th>\n",
       "      <td>668.500000</td>\n",
       "      <td>39.000000</td>\n",
       "      <td>NaN</td>\n",
       "      <td>30.400000</td>\n",
       "      <td>1.000000</td>\n",
       "      <td>NaN</td>\n",
       "      <td>NaN</td>\n",
       "      <td>9382.033000</td>\n",
       "    </tr>\n",
       "    <tr>\n",
       "      <th>75%</th>\n",
       "      <td>1002.750000</td>\n",
       "      <td>51.000000</td>\n",
       "      <td>NaN</td>\n",
       "      <td>34.693750</td>\n",
       "      <td>2.000000</td>\n",
       "      <td>NaN</td>\n",
       "      <td>NaN</td>\n",
       "      <td>16639.912515</td>\n",
       "    </tr>\n",
       "    <tr>\n",
       "      <th>max</th>\n",
       "      <td>1337.000000</td>\n",
       "      <td>64.000000</td>\n",
       "      <td>NaN</td>\n",
       "      <td>53.130000</td>\n",
       "      <td>5.000000</td>\n",
       "      <td>NaN</td>\n",
       "      <td>NaN</td>\n",
       "      <td>63770.428010</td>\n",
       "    </tr>\n",
       "  </tbody>\n",
       "</table>\n",
       "</div>"
      ],
      "text/plain": [
       "              index          age   sex          bmi     children smoker  \\\n",
       "count   1338.000000  1338.000000  1338  1338.000000  1338.000000   1338   \n",
       "unique          NaN          NaN     2          NaN          NaN      2   \n",
       "top             NaN          NaN  male          NaN          NaN     no   \n",
       "freq            NaN          NaN   676          NaN          NaN   1064   \n",
       "mean     668.500000    39.207025   NaN    30.663397     1.094918    NaN   \n",
       "std      386.391641    14.049960   NaN     6.098187     1.205493    NaN   \n",
       "min        0.000000    18.000000   NaN    15.960000     0.000000    NaN   \n",
       "25%      334.250000    27.000000   NaN    26.296250     0.000000    NaN   \n",
       "50%      668.500000    39.000000   NaN    30.400000     1.000000    NaN   \n",
       "75%     1002.750000    51.000000   NaN    34.693750     2.000000    NaN   \n",
       "max     1337.000000    64.000000   NaN    53.130000     5.000000    NaN   \n",
       "\n",
       "           region       charges  \n",
       "count        1338   1338.000000  \n",
       "unique          4           NaN  \n",
       "top     southeast           NaN  \n",
       "freq          364           NaN  \n",
       "mean          NaN  13270.422265  \n",
       "std           NaN  12110.011237  \n",
       "min           NaN   1121.873900  \n",
       "25%           NaN   4740.287150  \n",
       "50%           NaN   9382.033000  \n",
       "75%           NaN  16639.912515  \n",
       "max           NaN  63770.428010  "
      ]
     },
     "execution_count": 4,
     "metadata": {},
     "output_type": "execute_result"
    }
   ],
   "source": [
    "# display the statistical summary of the numerical, categorical and target data\n",
    "df.describe(include=\"all\")"
   ]
  },
  {
   "cell_type": "markdown",
   "metadata": {
    "id": "MOCSwvDc4BTN"
   },
   "source": [
    "#### Write your insights and findings from the statistical summary\n",
    "\n",
    "* The data sample has 1,338 observations which is quite small. \n",
    "* The dataset has no missing values.\n",
    "* There are 6 dependent variables (age, sex, bmi, children, smoker, region) and one target variable (charges).\n",
    "* The age variable has a minimum and maximum age of 18 and 64 respectively. Also, it could almost be considered as a normal distribion since the mean and median vary slghtly.\n",
    "* The sex variable has two unique elements; male and female, with the male appearing slightly more.\n",
    "* Similar to the age variable, the bmi and children variables are slightly skewed to the right although their mean and median are almost identical.\n",
    "* Based on the dataset, there are more non-smokers (79.5%) than smokers (20.5%).\n",
    "* There are 4 unique elements under the region variable with clients from the southeast region making the most appearance.\n",
    "* The charges variable is skewed to the right given that its mean is greater than its median."
   ]
  },
  {
   "cell_type": "code",
   "execution_count": 5,
   "metadata": {
    "id": "KYlX7n_Evvnx"
   },
   "outputs": [
    {
     "data": {
      "text/plain": [
       "index       0\n",
       "age         0\n",
       "sex         0\n",
       "bmi         0\n",
       "children    0\n",
       "smoker      0\n",
       "region      0\n",
       "charges     0\n",
       "dtype: int64"
      ]
     },
     "execution_count": 5,
     "metadata": {},
     "output_type": "execute_result"
    }
   ],
   "source": [
    "# Check the missing values\n",
    "df.isna().sum()"
   ]
  },
  {
   "cell_type": "markdown",
   "metadata": {},
   "source": [
    "* There are no missing values."
   ]
  },
  {
   "cell_type": "code",
   "execution_count": 6,
   "metadata": {
    "id": "pcakHRkyvw0i"
   },
   "outputs": [
    {
     "name": "stdout",
     "output_type": "stream",
     "text": [
      "Number of duplicates rows = 0\n"
     ]
    }
   ],
   "source": [
    "# check duplicated rows\n",
    "print(\"Number of duplicates rows = %d\" % df.duplicated().sum())"
   ]
  },
  {
   "cell_type": "markdown",
   "metadata": {},
   "source": [
    "* There are no duplicates."
   ]
  },
  {
   "cell_type": "code",
   "execution_count": 7,
   "metadata": {
    "id": "NTsboKy7vzPh"
   },
   "outputs": [
    {
     "name": "stdout",
     "output_type": "stream",
     "text": [
      "<class 'pandas.core.frame.DataFrame'>\n",
      "RangeIndex: 1338 entries, 0 to 1337\n",
      "Data columns (total 8 columns):\n",
      " #   Column    Non-Null Count  Dtype  \n",
      "---  ------    --------------  -----  \n",
      " 0   index     1338 non-null   int64  \n",
      " 1   age       1338 non-null   int64  \n",
      " 2   sex       1338 non-null   object \n",
      " 3   bmi       1338 non-null   float64\n",
      " 4   children  1338 non-null   int64  \n",
      " 5   smoker    1338 non-null   object \n",
      " 6   region    1338 non-null   object \n",
      " 7   charges   1338 non-null   float64\n",
      "dtypes: float64(2), int64(3), object(3)\n",
      "memory usage: 83.8+ KB\n"
     ]
    }
   ],
   "source": [
    "# display the info of the dataset\n",
    "df.info()"
   ]
  },
  {
   "cell_type": "markdown",
   "metadata": {},
   "source": [
    "* There are 3 interger variables, 2 float variables, 3 object variables in the dataset."
   ]
  },
  {
   "cell_type": "code",
   "execution_count": 8,
   "metadata": {
    "id": "uWhAkj_xv2j-"
   },
   "outputs": [
    {
     "data": {
      "text/html": [
       "<div>\n",
       "<style scoped>\n",
       "    .dataframe tbody tr th:only-of-type {\n",
       "        vertical-align: middle;\n",
       "    }\n",
       "\n",
       "    .dataframe tbody tr th {\n",
       "        vertical-align: top;\n",
       "    }\n",
       "\n",
       "    .dataframe thead th {\n",
       "        text-align: right;\n",
       "    }\n",
       "</style>\n",
       "<table border=\"1\" class=\"dataframe\">\n",
       "  <thead>\n",
       "    <tr style=\"text-align: right;\">\n",
       "      <th></th>\n",
       "      <th>age</th>\n",
       "      <th>sex</th>\n",
       "      <th>bmi</th>\n",
       "      <th>children</th>\n",
       "      <th>smoker</th>\n",
       "      <th>region</th>\n",
       "      <th>charges</th>\n",
       "    </tr>\n",
       "  </thead>\n",
       "  <tbody>\n",
       "    <tr>\n",
       "      <th>0</th>\n",
       "      <td>19</td>\n",
       "      <td>female</td>\n",
       "      <td>27.900</td>\n",
       "      <td>0</td>\n",
       "      <td>yes</td>\n",
       "      <td>southwest</td>\n",
       "      <td>16884.92400</td>\n",
       "    </tr>\n",
       "    <tr>\n",
       "      <th>1</th>\n",
       "      <td>18</td>\n",
       "      <td>male</td>\n",
       "      <td>33.770</td>\n",
       "      <td>1</td>\n",
       "      <td>no</td>\n",
       "      <td>southeast</td>\n",
       "      <td>1725.55230</td>\n",
       "    </tr>\n",
       "    <tr>\n",
       "      <th>2</th>\n",
       "      <td>28</td>\n",
       "      <td>male</td>\n",
       "      <td>33.000</td>\n",
       "      <td>3</td>\n",
       "      <td>no</td>\n",
       "      <td>southeast</td>\n",
       "      <td>4449.46200</td>\n",
       "    </tr>\n",
       "    <tr>\n",
       "      <th>3</th>\n",
       "      <td>33</td>\n",
       "      <td>male</td>\n",
       "      <td>22.705</td>\n",
       "      <td>0</td>\n",
       "      <td>no</td>\n",
       "      <td>northwest</td>\n",
       "      <td>21984.47061</td>\n",
       "    </tr>\n",
       "    <tr>\n",
       "      <th>4</th>\n",
       "      <td>32</td>\n",
       "      <td>male</td>\n",
       "      <td>28.880</td>\n",
       "      <td>0</td>\n",
       "      <td>no</td>\n",
       "      <td>northwest</td>\n",
       "      <td>3866.85520</td>\n",
       "    </tr>\n",
       "    <tr>\n",
       "      <th>...</th>\n",
       "      <td>...</td>\n",
       "      <td>...</td>\n",
       "      <td>...</td>\n",
       "      <td>...</td>\n",
       "      <td>...</td>\n",
       "      <td>...</td>\n",
       "      <td>...</td>\n",
       "    </tr>\n",
       "    <tr>\n",
       "      <th>1333</th>\n",
       "      <td>50</td>\n",
       "      <td>male</td>\n",
       "      <td>30.970</td>\n",
       "      <td>3</td>\n",
       "      <td>no</td>\n",
       "      <td>northwest</td>\n",
       "      <td>10600.54830</td>\n",
       "    </tr>\n",
       "    <tr>\n",
       "      <th>1334</th>\n",
       "      <td>18</td>\n",
       "      <td>female</td>\n",
       "      <td>31.920</td>\n",
       "      <td>0</td>\n",
       "      <td>no</td>\n",
       "      <td>northeast</td>\n",
       "      <td>2205.98080</td>\n",
       "    </tr>\n",
       "    <tr>\n",
       "      <th>1335</th>\n",
       "      <td>18</td>\n",
       "      <td>female</td>\n",
       "      <td>36.850</td>\n",
       "      <td>0</td>\n",
       "      <td>no</td>\n",
       "      <td>southeast</td>\n",
       "      <td>1629.83350</td>\n",
       "    </tr>\n",
       "    <tr>\n",
       "      <th>1336</th>\n",
       "      <td>21</td>\n",
       "      <td>female</td>\n",
       "      <td>25.800</td>\n",
       "      <td>0</td>\n",
       "      <td>no</td>\n",
       "      <td>southwest</td>\n",
       "      <td>2007.94500</td>\n",
       "    </tr>\n",
       "    <tr>\n",
       "      <th>1337</th>\n",
       "      <td>61</td>\n",
       "      <td>female</td>\n",
       "      <td>29.070</td>\n",
       "      <td>0</td>\n",
       "      <td>yes</td>\n",
       "      <td>northwest</td>\n",
       "      <td>29141.36030</td>\n",
       "    </tr>\n",
       "  </tbody>\n",
       "</table>\n",
       "<p>1338 rows × 7 columns</p>\n",
       "</div>"
      ],
      "text/plain": [
       "      age     sex     bmi  children smoker     region      charges\n",
       "0      19  female  27.900         0    yes  southwest  16884.92400\n",
       "1      18    male  33.770         1     no  southeast   1725.55230\n",
       "2      28    male  33.000         3     no  southeast   4449.46200\n",
       "3      33    male  22.705         0     no  northwest  21984.47061\n",
       "4      32    male  28.880         0     no  northwest   3866.85520\n",
       "...   ...     ...     ...       ...    ...        ...          ...\n",
       "1333   50    male  30.970         3     no  northwest  10600.54830\n",
       "1334   18  female  31.920         0     no  northeast   2205.98080\n",
       "1335   18  female  36.850         0     no  southeast   1629.83350\n",
       "1336   21  female  25.800         0     no  southwest   2007.94500\n",
       "1337   61  female  29.070         0    yes  northwest  29141.36030\n",
       "\n",
       "[1338 rows x 7 columns]"
      ]
     },
     "execution_count": 8,
     "metadata": {},
     "output_type": "execute_result"
    }
   ],
   "source": [
    "# drop the columns which was not required for modelling\n",
    "df.drop([\"index\"], axis = 1, inplace = True)\n",
    "df"
   ]
  },
  {
   "cell_type": "markdown",
   "metadata": {
    "id": "eULT8QQMwIzJ"
   },
   "source": [
    "## Exploratory data analysis"
   ]
  },
  {
   "cell_type": "markdown",
   "metadata": {
    "id": "AvFxKicqwnBf"
   },
   "source": [
    "#### Charges amount distribution per sex"
   ]
  },
  {
   "cell_type": "code",
   "execution_count": 9,
   "metadata": {
    "id": "Bnjg0xTnv70C"
   },
   "outputs": [
    {
     "data": {
      "image/png": "[encoded data removed]",
      "text/plain": [
       "<Figure size 800x600 with 1 Axes>"
      ]
     },
     "metadata": {},
     "output_type": "display_data"
    }
   ],
   "source": [
    "# Display a histogram to visualize the distribution of charges based on sex in the dataset\n",
    "# Create separate DataFrames for male and female charges\n",
    "male_charges = df[df[\"sex\"] == \"male\"][\"charges\"]\n",
    "female_charges = df[df[\"sex\"] == \"female\"][\"charges\"]\n",
    "\n",
    "# Create a histogram\n",
    "plt.figure(figsize=(8, 6))\n",
    "plt.hist([male_charges, female_charges], color=[\"blue\", \"red\"], label=[\"Male\", \"Female\"])\n",
    "plt.xlabel(\"Charges\")\n",
    "plt.ylabel(\"Frequency\")\n",
    "plt.title(\"Distribution of Charges by Sex\")\n",
    "plt.legend()\n",
    "plt.show()\n"
   ]
  },
  {
   "cell_type": "markdown",
   "metadata": {
    "id": "b8L8J9mIweIj"
   },
   "source": [
    "#### Distribution of Age"
   ]
  },
  {
   "cell_type": "code",
   "execution_count": 10,
   "metadata": {
    "id": "VE0lxH_GwQDY"
   },
   "outputs": [
    {
     "data": {
      "image/png": "[encoded data removed]",
      "text/plain": [
       "<Figure size 800x600 with 1 Axes>"
      ]
     },
     "metadata": {},
     "output_type": "display_data"
    }
   ],
   "source": [
    "# Create a histogram to display the age distribution in the dataset\n",
    "plt.figure(figsize= (8,6))\n",
    "plt.hist(data= df, x= \"age\", color= \"blue\", edgecolor= \"black\")\n",
    "plt.xlabel(\"Age\")\n",
    "plt.ylabel(\"Frequency\")\n",
    "plt.title(\"Distribution by Age\")\n",
    "plt.show()"
   ]
  },
  {
   "cell_type": "markdown",
   "metadata": {
    "id": "iAT8o40ZwuFg"
   },
   "source": [
    "#### Charges amount distribution per smoker"
   ]
  },
  {
   "cell_type": "code",
   "execution_count": 11,
   "metadata": {
    "id": "J8HjGfZowqaN"
   },
   "outputs": [
    {
     "data": {
      "image/png": "[encoded data removed]",
      "text/plain": [
       "<Figure size 800x600 with 1 Axes>"
      ]
     },
     "metadata": {},
     "output_type": "display_data"
    }
   ],
   "source": [
    "# Show a histogram to visualize the distribution of charges amounts based on smoking status in the dataset\n",
    "# Separate charges based on smoking status\n",
    "non_smoker_charges = df[df[\"smoker\"] == \"no\"][\"charges\"]\n",
    "smoker_charges = df[df[\"smoker\"] == \"yes\"][\"charges\"]\n",
    "\n",
    "# Create a histogram\n",
    "plt.figure(figsize=(8, 6))\n",
    "plt.hist([non_smoker_charges, smoker_charges], color=[\"blue\", \"orange\"], label=[\"Non-smoker\", \"Smoker\"])\n",
    "plt.xlabel(\"Charges\")\n",
    "plt.ylabel(\"Frequency\")\n",
    "plt.title(\"Distribution of Charges by Smoking Status\")\n",
    "plt.legend()\n",
    "plt.show()"
   ]
  },
  {
   "cell_type": "markdown",
   "metadata": {
    "id": "web1ZseGx4Zb"
   },
   "source": [
    "#### Average BMI per age"
   ]
  },
  {
   "cell_type": "code",
   "execution_count": 12,
   "metadata": {
    "id": "ZkYMtoh6xNEQ"
   },
   "outputs": [
    {
     "data": {
      "image/png": "[encoded data removed]",
      "text/plain": [
       "<Figure size 800x600 with 1 Axes>"
      ]
     },
     "metadata": {},
     "output_type": "display_data"
    }
   ],
   "source": [
    "# Display a line plot showing the average BMI per age using markers to highlight the data points\n",
    "# Calculate the average BMI per age\n",
    "average_bmi = df.groupby(\"age\")[\"bmi\"].mean()\n",
    "average_bmi\n",
    "\n",
    "# Create the line plot\n",
    "plt.figure(figsize= (8,6))\n",
    "plt.plot(average_bmi.index, average_bmi.values, marker= \"o\", linestyle= \"-\", color= \"b\", label= \"Average BMI\")\n",
    "plt.xlabel(\"Age\")\n",
    "plt.ylabel(\"BMI\")\n",
    "plt.title(\"Average BMI per Age\")\n",
    "plt.grid(True)\n",
    "plt.legend()\n",
    "plt.show()"
   ]
  },
  {
   "cell_type": "markdown",
   "metadata": {
    "id": "AGKsqXSgxXYc"
   },
   "source": [
    "As we can see with time - the average BMI score starts getting higher to unhealthier ranges."
   ]
  },
  {
   "cell_type": "markdown",
   "metadata": {
    "id": "_1t2E2y0xt5H"
   },
   "source": [
    "#### Age vs Charges"
   ]
  },
  {
   "cell_type": "code",
   "execution_count": 13,
   "metadata": {
    "id": "gnucUaCbxf_e"
   },
   "outputs": [
    {
     "data": {
      "image/png": "[encoded data removed]",
      "text/plain": [
       "<Figure size 800x600 with 1 Axes>"
      ]
     },
     "metadata": {},
     "output_type": "display_data"
    }
   ],
   "source": [
    "# Create a scatter plot to show the relationship between age and charges in the dataset.\n",
    "plt.figure(figsize=(8, 6))\n",
    "plt.scatter(df[\"age\"], df[\"charges\"], color=\"b\", marker=\"o\", label=\"Data Points\")\n",
    "plt.xlabel(\"Age\")\n",
    "plt.ylabel(\"Charges\")\n",
    "plt.title(\"Relationship between Age and Charges\")\n",
    "plt.grid(True)\n",
    "plt.legend()\n",
    "plt.show()"
   ]
  },
  {
   "cell_type": "markdown",
   "metadata": {
    "application/vnd.databricks.v1+cell": {
     "cellMetadata": {},
     "inputWidgets": {},
     "nuid": "44a30d2c-d116-40a9-b7a0-964d5c827f25",
     "showTitle": false,
     "title": ""
    },
    "id": "tHKW8Ie5Ir6g"
   },
   "source": [
    "## Model Estimation"
   ]
  },
  {
   "cell_type": "code",
   "execution_count": 14,
   "metadata": {
    "id": "LqY0f158634p"
   },
   "outputs": [],
   "source": [
    "# write you are code here\n",
    "target = 'charges'\n",
    "numeric_features = ['age', 'bmi', 'children']\n",
    "categorical_features = ['sex', 'smoker','region']\n",
    "\n",
    "X = df[numeric_features + categorical_features]\n",
    "y = df[target]"
   ]
  },
  {
   "cell_type": "code",
   "execution_count": 15,
   "metadata": {},
   "outputs": [],
   "source": [
    "# Split the independenet and dependent features in to x and y variables with a test size 0.2% and random at 42\n",
    "Xtrain, Xtest, ytrain, ytest = train_test_split(X, y, test_size= 0.2, random_state= 42)"
   ]
  },
  {
   "cell_type": "code",
   "execution_count": 16,
   "metadata": {},
   "outputs": [],
   "source": [
    "# Creating a column transformer named preprocessor to apply specific pipelines to numerical and categorical features separately.\n",
    "preprocessor = make_column_transformer((StandardScaler(), numeric_features), (OneHotEncoder(handle_unknown= \"ignore\"), categorical_features))\n"
   ]
  },
  {
   "cell_type": "markdown",
   "metadata": {},
   "source": [
    "### Using Linear Regression Model"
   ]
  },
  {
   "cell_type": "code",
   "execution_count": 17,
   "metadata": {},
   "outputs": [],
   "source": [
    "# Creating a linear regression model with parallel processing enabled (-1 indicates using all available cores) for improved training efficiency.\n",
    "model_linear_regression = LinearRegression(n_jobs=-1)"
   ]
  },
  {
   "cell_type": "code",
   "execution_count": 18,
   "metadata": {},
   "outputs": [],
   "source": [
    "# Creating a pipeline combining preprocessing steps (imputation and encoding) with linear regression modeling.\n",
    "model_pipeline = make_pipeline(\n",
    "    preprocessor,  # Applying preprocessing steps\n",
    "    model_linear_regression  # Training linear regression model\n",
    ")"
   ]
  },
  {
   "cell_type": "code",
   "execution_count": 19,
   "metadata": {},
   "outputs": [
    {
     "data": {
      "text/html": [
       "<style>#sk-container-id-1 {color: black;background-color: white;}#sk-container-id-1 pre{padding: 0;}#sk-container-id-1 div.sk-toggleable {background-color: white;}#sk-container-id-1 label.sk-toggleable__label {cursor: pointer;display: block;width: 100%;margin-bottom: 0;padding: 0.3em;box-sizing: border-box;text-align: center;}#sk-container-id-1 label.sk-toggleable__label-arrow:before {content: \"▸\";float: left;margin-right: 0.25em;color: #696969;}#sk-container-id-1 label.sk-toggleable__label-arrow:hover:before {color: black;}#sk-container-id-1 div.sk-estimator:hover label.sk-toggleable__label-arrow:before {color: black;}#sk-container-id-1 div.sk-toggleable__content {max-height: 0;max-width: 0;overflow: hidden;text-align: left;background-color: #f0f8ff;}#sk-container-id-1 div.sk-toggleable__content pre {margin: 0.2em;color: black;border-radius: 0.25em;background-color: #f0f8ff;}#sk-container-id-1 input.sk-toggleable__control:checked~div.sk-toggleable__content {max-height: 200px;max-width: 100%;overflow: auto;}#sk-container-id-1 input.sk-toggleable__control:checked~label.sk-toggleable__label-arrow:before {content: \"▾\";}#sk-container-id-1 div.sk-estimator input.sk-toggleable__control:checked~label.sk-toggleable__label {background-color: #d4ebff;}#sk-container-id-1 div.sk-label input.sk-toggleable__control:checked~label.sk-toggleable__label {background-color: #d4ebff;}#sk-container-id-1 input.sk-hidden--visually {border: 0;clip: rect(1px 1px 1px 1px);clip: rect(1px, 1px, 1px, 1px);height: 1px;margin: -1px;overflow: hidden;padding: 0;position: absolute;width: 1px;}#sk-container-id-1 div.sk-estimator {font-family: monospace;background-color: #f0f8ff;border: 1px dotted black;border-radius: 0.25em;box-sizing: border-box;margin-bottom: 0.5em;}#sk-container-id-1 div.sk-estimator:hover {background-color: #d4ebff;}#sk-container-id-1 div.sk-parallel-item::after {content: \"\";width: 100%;border-bottom: 1px solid gray;flex-grow: 1;}#sk-container-id-1 div.sk-label:hover label.sk-toggleable__label {background-color: #d4ebff;}#sk-container-id-1 div.sk-serial::before {content: \"\";position: absolute;border-left: 1px solid gray;box-sizing: border-box;top: 0;bottom: 0;left: 50%;z-index: 0;}#sk-container-id-1 div.sk-serial {display: flex;flex-direction: column;align-items: center;background-color: white;padding-right: 0.2em;padding-left: 0.2em;position: relative;}#sk-container-id-1 div.sk-item {position: relative;z-index: 1;}#sk-container-id-1 div.sk-parallel {display: flex;align-items: stretch;justify-content: center;background-color: white;position: relative;}#sk-container-id-1 div.sk-item::before, #sk-container-id-1 div.sk-parallel-item::before {content: \"\";position: absolute;border-left: 1px solid gray;box-sizing: border-box;top: 0;bottom: 0;left: 50%;z-index: -1;}#sk-container-id-1 div.sk-parallel-item {display: flex;flex-direction: column;z-index: 1;position: relative;background-color: white;}#sk-container-id-1 div.sk-parallel-item:first-child::after {align-self: flex-end;width: 50%;}#sk-container-id-1 div.sk-parallel-item:last-child::after {align-self: flex-start;width: 50%;}#sk-container-id-1 div.sk-parallel-item:only-child::after {width: 0;}#sk-container-id-1 div.sk-dashed-wrapped {border: 1px dashed gray;margin: 0 0.4em 0.5em 0.4em;box-sizing: border-box;padding-bottom: 0.4em;background-color: white;}#sk-container-id-1 div.sk-label label {font-family: monospace;font-weight: bold;display: inline-block;line-height: 1.2em;}#sk-container-id-1 div.sk-label-container {text-align: center;}#sk-container-id-1 div.sk-container {/* jupyter's `normalize.less` sets `[hidden] { display: none; }` but bootstrap.min.css set `[hidden] { display: none !important; }` so we also need the `!important` here to be able to override the default hidden behavior on the sphinx rendered scikit-learn.org. See: https://github.com/scikit-learn/scikit-learn/issues/21755 */display: inline-block !important;position: relative;}#sk-container-id-1 div.sk-text-repr-fallback {display: none;}</style><div id=\"sk-container-id-1\" class=\"sk-top-container\"><div class=\"sk-text-repr-fallback\"><pre>Pipeline(steps=[(&#x27;columntransformer&#x27;,\n",
       "                 ColumnTransformer(transformers=[(&#x27;standardscaler&#x27;,\n",
       "                                                  StandardScaler(),\n",
       "                                                  [&#x27;age&#x27;, &#x27;bmi&#x27;, &#x27;children&#x27;]),\n",
       "                                                 (&#x27;onehotencoder&#x27;,\n",
       "                                                  OneHotEncoder(handle_unknown=&#x27;ignore&#x27;),\n",
       "                                                  [&#x27;sex&#x27;, &#x27;smoker&#x27;,\n",
       "                                                   &#x27;region&#x27;])])),\n",
       "                (&#x27;linearregression&#x27;, LinearRegression(n_jobs=-1))])</pre><b>In a Jupyter environment, please rerun this cell to show the HTML representation or trust the notebook. <br />On GitHub, the HTML representation is unable to render, please try loading this page with nbviewer.org.</b></div><div class=\"sk-container\" hidden><div class=\"sk-item sk-dashed-wrapped\"><div class=\"sk-label-container\"><div class=\"sk-label sk-toggleable\"><input class=\"sk-toggleable__control sk-hidden--visually\" id=\"sk-estimator-id-1\" type=\"checkbox\" ><label for=\"sk-estimator-id-1\" class=\"sk-toggleable__label sk-toggleable__label-arrow\">Pipeline</label><div class=\"sk-toggleable__content\"><pre>Pipeline(steps=[(&#x27;columntransformer&#x27;,\n",
       "                 ColumnTransformer(transformers=[(&#x27;standardscaler&#x27;,\n",
       "                                                  StandardScaler(),\n",
       "                                                  [&#x27;age&#x27;, &#x27;bmi&#x27;, &#x27;children&#x27;]),\n",
       "                                                 (&#x27;onehotencoder&#x27;,\n",
       "                                                  OneHotEncoder(handle_unknown=&#x27;ignore&#x27;),\n",
       "                                                  [&#x27;sex&#x27;, &#x27;smoker&#x27;,\n",
       "                                                   &#x27;region&#x27;])])),\n",
       "                (&#x27;linearregression&#x27;, LinearRegression(n_jobs=-1))])</pre></div></div></div><div class=\"sk-serial\"><div class=\"sk-item sk-dashed-wrapped\"><div class=\"sk-label-container\"><div class=\"sk-label sk-toggleable\"><input class=\"sk-toggleable__control sk-hidden--visually\" id=\"sk-estimator-id-2\" type=\"checkbox\" ><label for=\"sk-estimator-id-2\" class=\"sk-toggleable__label sk-toggleable__label-arrow\">columntransformer: ColumnTransformer</label><div class=\"sk-toggleable__content\"><pre>ColumnTransformer(transformers=[(&#x27;standardscaler&#x27;, StandardScaler(),\n",
       "                                 [&#x27;age&#x27;, &#x27;bmi&#x27;, &#x27;children&#x27;]),\n",
       "                                (&#x27;onehotencoder&#x27;,\n",
       "                                 OneHotEncoder(handle_unknown=&#x27;ignore&#x27;),\n",
       "                                 [&#x27;sex&#x27;, &#x27;smoker&#x27;, &#x27;region&#x27;])])</pre></div></div></div><div class=\"sk-parallel\"><div class=\"sk-parallel-item\"><div class=\"sk-item\"><div class=\"sk-label-container\"><div class=\"sk-label sk-toggleable\"><input class=\"sk-toggleable__control sk-hidden--visually\" id=\"sk-estimator-id-3\" type=\"checkbox\" ><label for=\"sk-estimator-id-3\" class=\"sk-toggleable__label sk-toggleable__label-arrow\">standardscaler</label><div class=\"sk-toggleable__content\"><pre>[&#x27;age&#x27;, &#x27;bmi&#x27;, &#x27;children&#x27;]</pre></div></div></div><div class=\"sk-serial\"><div class=\"sk-item\"><div class=\"sk-estimator sk-toggleable\"><input class=\"sk-toggleable__control sk-hidden--visually\" id=\"sk-estimator-id-4\" type=\"checkbox\" ><label for=\"sk-estimator-id-4\" class=\"sk-toggleable__label sk-toggleable__label-arrow\">StandardScaler</label><div class=\"sk-toggleable__content\"><pre>StandardScaler()</pre></div></div></div></div></div></div><div class=\"sk-parallel-item\"><div class=\"sk-item\"><div class=\"sk-label-container\"><div class=\"sk-label sk-toggleable\"><input class=\"sk-toggleable__control sk-hidden--visually\" id=\"sk-estimator-id-5\" type=\"checkbox\" ><label for=\"sk-estimator-id-5\" class=\"sk-toggleable__label sk-toggleable__label-arrow\">onehotencoder</label><div class=\"sk-toggleable__content\"><pre>[&#x27;sex&#x27;, &#x27;smoker&#x27;, &#x27;region&#x27;]</pre></div></div></div><div class=\"sk-serial\"><div class=\"sk-item\"><div class=\"sk-estimator sk-toggleable\"><input class=\"sk-toggleable__control sk-hidden--visually\" id=\"sk-estimator-id-6\" type=\"checkbox\" ><label for=\"sk-estimator-id-6\" class=\"sk-toggleable__label sk-toggleable__label-arrow\">OneHotEncoder</label><div class=\"sk-toggleable__content\"><pre>OneHotEncoder(handle_unknown=&#x27;ignore&#x27;)</pre></div></div></div></div></div></div></div></div><div class=\"sk-item\"><div class=\"sk-estimator sk-toggleable\"><input class=\"sk-toggleable__control sk-hidden--visually\" id=\"sk-estimator-id-7\" type=\"checkbox\" ><label for=\"sk-estimator-id-7\" class=\"sk-toggleable__label sk-toggleable__label-arrow\">LinearRegression</label><div class=\"sk-toggleable__content\"><pre>LinearRegression(n_jobs=-1)</pre></div></div></div></div></div></div></div>"
      ],
      "text/plain": [
       "Pipeline(steps=[('columntransformer',\n",
       "                 ColumnTransformer(transformers=[('standardscaler',\n",
       "                                                  StandardScaler(),\n",
       "                                                  ['age', 'bmi', 'children']),\n",
       "                                                 ('onehotencoder',\n",
       "                                                  OneHotEncoder(handle_unknown='ignore'),\n",
       "                                                  ['sex', 'smoker',\n",
       "                                                   'region'])])),\n",
       "                ('linearregression', LinearRegression(n_jobs=-1))])"
      ]
     },
     "execution_count": 19,
     "metadata": {},
     "output_type": "execute_result"
    }
   ],
   "source": [
    "# Fit the model on training data\n",
    "model_pipeline.fit(Xtrain, ytrain)"
   ]
  },
  {
   "cell_type": "markdown",
   "metadata": {
    "application/vnd.databricks.v1+cell": {
     "cellMetadata": {},
     "inputWidgets": {},
     "nuid": "5674b6d3-48a3-478c-af4b-6dc237a52f49",
     "showTitle": false,
     "title": ""
    },
    "id": "_1MBYq-CIr6j"
   },
   "source": [
    "## Model Evaluation"
   ]
  },
  {
   "cell_type": "code",
   "execution_count": 20,
   "metadata": {
    "id": "rQKMBte_677I"
   },
   "outputs": [
    {
     "data": {
      "text/plain": [
       "array([ 8969.55027444,  7068.74744287, 36858.41091155,  9454.67850053,\n",
       "       26973.17345656, 10864.11316424,   170.28084136, 16903.45028662,\n",
       "        1092.43093614, 11218.34318352, 28101.68455267,  9377.73460205,\n",
       "        5263.0595179 , 38416.04221107, 40255.82339284, 37098.25353123,\n",
       "       15240.39392306, 35912.88264434,  9112.52398703, 31461.92108909,\n",
       "        3847.68845883, 10130.12001517,  2370.54189389,  7140.21550828,\n",
       "       11301.76782638, 12961.65366224, 14509.47251876,  6159.8976107 ,\n",
       "        9963.85857263,  2177.85718217,  9115.93673493, 13073.68932159,\n",
       "        4561.82376202,  3408.20756033,  4459.81359745, 13032.06505076,\n",
       "        1979.99357292,  8813.28303302, 33271.29124448, 32585.51583927,\n",
       "        3908.76090964,  4326.10774721, 14142.81326533, 11423.45494846,\n",
       "        8774.13955311, 12097.28051001,  5281.57353499,  3150.5596042 ,\n",
       "       35494.46461214,  9150.1124786 , 15836.84575621,  2343.57470069,\n",
       "       12364.78414194,  1482.29488266, 13389.06105161, 12573.57395972,\n",
       "        4341.83680558, 32165.33688042, 13321.3360032 , 12896.82071102,\n",
       "       14167.99421483, 10506.17623512, 16360.78543548,  7763.89824584,\n",
       "       11839.25019431,  4061.19750503, 26652.40230125, 10930.14138671,\n",
       "        2137.41385988,  6209.01123411, 10729.82391284, 11628.3104129 ,\n",
       "       10981.04528946,  9166.50818596, 11954.27732874,  6747.85121734,\n",
       "        7248.5304713 , 10735.16710748,  6580.84819774,  8762.00329355,\n",
       "        3767.13383454, 36632.4975496 ,  6378.11979721, 30842.09248656,\n",
       "       34846.52451051, 35278.07387112,  7019.444352  , 12861.38414264,\n",
       "        9942.30149778, 14473.5260648 , 17693.37304474, 35258.24845137,\n",
       "       33029.58968269,  6185.91730447, 31999.98962535,  9481.33158273,\n",
       "       29444.04271523,  3674.48498404, 28308.26432106,  5823.36495229,\n",
       "        5407.76752001,  1883.4947576 , 11499.675042  , 15075.90690632,\n",
       "       11699.63163008,  4308.82427855,  9895.1840044 , 31708.40056201,\n",
       "         -86.87094667, 32819.71429004,  3280.69178415, 10183.88853878,\n",
       "       14318.76389179, 31642.35684542, 11461.57806791,  3929.23701831,\n",
       "       13107.89313088, 31810.99450607,  8152.02593593,  3238.08417076,\n",
       "        8439.56108376, 10594.63871458, 15219.68736374,  5647.8808143 ,\n",
       "        3781.95285499, 10228.944897  , 10900.12933883, 11122.74845192,\n",
       "       14438.14112575,  7430.31504776,  5386.22676759,  9231.32739901,\n",
       "        9343.76283713, 12538.27606344,  8337.66982683, 15333.36900871,\n",
       "        8411.2145439 , 31797.27496298, 35785.91843418, 31603.71967017,\n",
       "        6011.96229251, 12607.03584641,  6013.5115031 , 14560.79590559,\n",
       "        2493.47989441, 32963.45524228,  6265.14380504,  5034.62173797,\n",
       "       14344.81347407,  6941.1412259 , 38670.01270366,  3087.58741836,\n",
       "        5885.8752536 , 31686.24200595, 11562.61859836,  8476.04749512,\n",
       "       14806.72486264,  9814.46186143, 27105.71831469, 33453.83352069,\n",
       "       14551.8999207 ,  1684.36856768, 13166.96197398,  2222.76894041,\n",
       "        5449.59393727, 11568.96325488, 39807.96912709, 36500.65163031,\n",
       "       34001.37945748,  3897.27856532,  7456.14132125,  8661.82084477,\n",
       "       12450.92458882,  4813.53293089,  2047.65528159, 32112.11251984,\n",
       "       25111.52085938, 17484.27663755, 26411.46181822, 10159.52421   ,\n",
       "       37260.32666386,  -441.23918333,  6779.55013103,  7781.45337795,\n",
       "        4367.95988484,  5105.87170813,  5919.18675042,  4305.71645941,\n",
       "       15191.08806502, 11132.09935114,  6932.80116584,  2525.64793222,\n",
       "        1536.05183213, 31944.78284317, 16414.12251517, 12011.53367195,\n",
       "        1268.05926603, 12531.25953189,  1564.93415917,  8737.33621694,\n",
       "        1873.03940488, 33916.22971211, 10858.38635063,  2603.43633853,\n",
       "       25674.40250332, 26343.43022704,  9430.91152033,  1800.73500777,\n",
       "       13261.42480211,  1120.17810533, 10386.66427709, 10567.29006474,\n",
       "       16944.25995713, 26846.54662457,  6939.11178393,  5193.04710054,\n",
       "        5846.00017265, 13229.60536846, 11098.33930228,  8362.28134289,\n",
       "        5135.53940151, 12308.34064139, 13861.17886997, 35773.70926219,\n",
       "        4157.01930317, 28917.86562624,  -914.37342357,  2873.71150671,\n",
       "       11046.2540774 , 15683.06950225,  5210.67532324,  6888.38518351,\n",
       "        3854.31140958, 31312.64705453,  7241.43226665, 12405.99508651,\n",
       "        5619.17039188,  9528.22557021, 36314.009043  ,  4429.40596906,\n",
       "        9667.91523953, 31161.15738995,  5747.13292318,  4603.37294255,\n",
       "        1048.35533791,  4832.6604097 ,  4574.9041044 ,  6507.30666036,\n",
       "       18659.12407756, -1545.57184934,  2376.4352498 , 10694.62157146,\n",
       "        3151.28919904, 10209.96361187,  3733.89128353,  5125.08103172,\n",
       "       12400.90700504,  6218.65296628,  8231.63765089,  7590.50155269,\n",
       "        8924.15352268, 10482.90359975, 27808.04576398, 39061.50093248,\n",
       "       11761.4991981 ,  7687.56363151, 40920.29151165, 12318.58665305])"
      ]
     },
     "execution_count": 20,
     "metadata": {},
     "output_type": "execute_result"
    }
   ],
   "source": [
    "# Make prediction on the test data\n",
    "model_pipeline.predict(Xtest)"
   ]
  },
  {
   "cell_type": "code",
   "execution_count": 21,
   "metadata": {},
   "outputs": [
    {
     "name": "stdout",
     "output_type": "stream",
     "text": [
      "RMSE: 5796.284659276274\n"
     ]
    }
   ],
   "source": [
    "# Evaluate the model performance using RMSE\n",
    "print(f\"RMSE: {mean_squared_error(ytest, model_pipeline.predict(Xtest), squared=False)}\")"
   ]
  },
  {
   "cell_type": "code",
   "execution_count": 22,
   "metadata": {},
   "outputs": [
    {
     "name": "stdout",
     "output_type": "stream",
     "text": [
      "R-squared: 0.7835929767120722\n"
     ]
    }
   ],
   "source": [
    "# Evaluate the model performance using R-squared\n",
    "print(f\"R-squared: {r2_score(ytest, model_pipeline.predict(Xtest))}\")"
   ]
  },
  {
   "cell_type": "markdown",
   "metadata": {
    "id": "XGjFkRf5JTnC"
   },
   "source": [
    "## Serialization"
   ]
  },
  {
   "cell_type": "code",
   "execution_count": 23,
   "metadata": {
    "id": "Q2pHKRtaJR9R"
   },
   "outputs": [
    {
     "name": "stdout",
     "output_type": "stream",
     "text": [
      "Name: scikit-learn\n",
      "Version: 1.2.2\n",
      "Summary: A set of python modules for machine learning and data mining\n",
      "Home-page: http://scikit-learn.org\n",
      "Author: \n",
      "Author-email: \n",
      "License: new BSD\n",
      "Location: C:\\Users\\egwuc\\anaconda3\\Lib\\site-packages\n",
      "Requires: joblib, numpy, scipy, threadpoolctl\n",
      "Required-by: imbalanced-learn\n"
     ]
    }
   ],
   "source": [
    "# Display information about the scikit-learn package\n",
    "!pip show scikit-learn"
   ]
  },
  {
   "cell_type": "code",
   "execution_count": 24,
   "metadata": {
    "id": "Wa0cqxINNTPq"
   },
   "outputs": [
    {
     "name": "stdout",
     "output_type": "stream",
     "text": [
      "Overwriting requirements.txt\n"
     ]
    }
   ],
   "source": [
    "%%writefile requirements.txt\n",
    "scikit-learn==1.2.2"
   ]
  },
  {
   "cell_type": "code",
   "execution_count": 25,
   "metadata": {
    "id": "wtMeSwLfJf7K"
   },
   "outputs": [
    {
     "name": "stdout",
     "output_type": "stream",
     "text": [
      "Overwriting train.py\n"
     ]
    }
   ],
   "source": [
    "%%writefile train.py\n",
    "import pandas as pd\n",
    "import joblib\n",
    "\n",
    "from sklearn.datasets import fetch_openml\n",
    "\n",
    "from sklearn.preprocessing import StandardScaler, OneHotEncoder\n",
    "from sklearn.compose import make_column_transformer\n",
    "\n",
    "from sklearn.pipeline import make_pipeline\n",
    "\n",
    "from sklearn.model_selection import train_test_split\n",
    "\n",
    "from sklearn.linear_model import LinearRegression\n",
    "from sklearn.metrics import mean_squared_error, r2_score\n",
    "\n",
    "# Read the data\n",
    "df = pd.read_csv(\"insurance.csv\")\n",
    "\n",
    "target = 'charges'\n",
    "numeric_features = ['age', 'bmi', 'children']\n",
    "categorical_features = ['sex', 'smoker','region']\n",
    "\n",
    "print(\"Creating data subsets\")\n",
    "\n",
    "X = df[numeric_features + categorical_features]\n",
    "y = df[target]\n",
    "\n",
    "Xtrain, Xtest, ytrain, ytest = train_test_split(X, y, test_size=0.2, random_state=42)\n",
    "\n",
    "preprocessor = make_column_transformer((StandardScaler(), numeric_features), (OneHotEncoder(handle_unknown='ignore'), categorical_features))\n",
    "\n",
    "model_linear_regression = LinearRegression(n_jobs=-1)\n",
    "\n",
    "print(\"Estimating Model Pipeline\")\n",
    "\n",
    "model_pipeline = make_pipeline(\n",
    "    preprocessor,\n",
    "    model_linear_regression\n",
    ")\n",
    "\n",
    "model_pipeline.fit(Xtrain, ytrain)\n",
    "\n",
    "print(\"Logging Metrics\")\n",
    "print(f\"R-squared: {r2_score(ytest, model_pipeline.predict(Xtest))}\")\n",
    "\n",
    "print(\"Serializing Model\")\n",
    "\n",
    "saved_model_path = \"model.joblib\"\n",
    "\n",
    "joblib.dump(model_pipeline, saved_model_path)"
   ]
  },
  {
   "cell_type": "code",
   "execution_count": 26,
   "metadata": {
    "id": "q9CmkTbsLn8C"
   },
   "outputs": [
    {
     "name": "stdout",
     "output_type": "stream",
     "text": [
      "Creating data subsets\n",
      "Estimating Model Pipeline\n",
      "Logging Metrics\n",
      "R-squared: 0.7835929767120722\n",
      "Serializing Model\n"
     ]
    }
   ],
   "source": [
    "# Execute the training script\n",
    "!python train.py"
   ]
  },
  {
   "cell_type": "markdown",
   "metadata": {
    "id": "lFC4HfHjMR2G"
   },
   "source": [
    "## Test Predictions"
   ]
  },
  {
   "cell_type": "code",
   "execution_count": 27,
   "metadata": {
    "id": "GHUn9EEf7oW-"
   },
   "outputs": [],
   "source": [
    "# write you are code here\n",
    "saved_model = joblib.load(\"model.joblib\")"
   ]
  },
  {
   "cell_type": "code",
   "execution_count": 28,
   "metadata": {},
   "outputs": [
    {
     "data": {
      "text/html": [
       "<style>#sk-container-id-2 {color: black;background-color: white;}#sk-container-id-2 pre{padding: 0;}#sk-container-id-2 div.sk-toggleable {background-color: white;}#sk-container-id-2 label.sk-toggleable__label {cursor: pointer;display: block;width: 100%;margin-bottom: 0;padding: 0.3em;box-sizing: border-box;text-align: center;}#sk-container-id-2 label.sk-toggleable__label-arrow:before {content: \"▸\";float: left;margin-right: 0.25em;color: #696969;}#sk-container-id-2 label.sk-toggleable__label-arrow:hover:before {color: black;}#sk-container-id-2 div.sk-estimator:hover label.sk-toggleable__label-arrow:before {color: black;}#sk-container-id-2 div.sk-toggleable__content {max-height: 0;max-width: 0;overflow: hidden;text-align: left;background-color: #f0f8ff;}#sk-container-id-2 div.sk-toggleable__content pre {margin: 0.2em;color: black;border-radius: 0.25em;background-color: #f0f8ff;}#sk-container-id-2 input.sk-toggleable__control:checked~div.sk-toggleable__content {max-height: 200px;max-width: 100%;overflow: auto;}#sk-container-id-2 input.sk-toggleable__control:checked~label.sk-toggleable__label-arrow:before {content: \"▾\";}#sk-container-id-2 div.sk-estimator input.sk-toggleable__control:checked~label.sk-toggleable__label {background-color: #d4ebff;}#sk-container-id-2 div.sk-label input.sk-toggleable__control:checked~label.sk-toggleable__label {background-color: #d4ebff;}#sk-container-id-2 input.sk-hidden--visually {border: 0;clip: rect(1px 1px 1px 1px);clip: rect(1px, 1px, 1px, 1px);height: 1px;margin: -1px;overflow: hidden;padding: 0;position: absolute;width: 1px;}#sk-container-id-2 div.sk-estimator {font-family: monospace;background-color: #f0f8ff;border: 1px dotted black;border-radius: 0.25em;box-sizing: border-box;margin-bottom: 0.5em;}#sk-container-id-2 div.sk-estimator:hover {background-color: #d4ebff;}#sk-container-id-2 div.sk-parallel-item::after {content: \"\";width: 100%;border-bottom: 1px solid gray;flex-grow: 1;}#sk-container-id-2 div.sk-label:hover label.sk-toggleable__label {background-color: #d4ebff;}#sk-container-id-2 div.sk-serial::before {content: \"\";position: absolute;border-left: 1px solid gray;box-sizing: border-box;top: 0;bottom: 0;left: 50%;z-index: 0;}#sk-container-id-2 div.sk-serial {display: flex;flex-direction: column;align-items: center;background-color: white;padding-right: 0.2em;padding-left: 0.2em;position: relative;}#sk-container-id-2 div.sk-item {position: relative;z-index: 1;}#sk-container-id-2 div.sk-parallel {display: flex;align-items: stretch;justify-content: center;background-color: white;position: relative;}#sk-container-id-2 div.sk-item::before, #sk-container-id-2 div.sk-parallel-item::before {content: \"\";position: absolute;border-left: 1px solid gray;box-sizing: border-box;top: 0;bottom: 0;left: 50%;z-index: -1;}#sk-container-id-2 div.sk-parallel-item {display: flex;flex-direction: column;z-index: 1;position: relative;background-color: white;}#sk-container-id-2 div.sk-parallel-item:first-child::after {align-self: flex-end;width: 50%;}#sk-container-id-2 div.sk-parallel-item:last-child::after {align-self: flex-start;width: 50%;}#sk-container-id-2 div.sk-parallel-item:only-child::after {width: 0;}#sk-container-id-2 div.sk-dashed-wrapped {border: 1px dashed gray;margin: 0 0.4em 0.5em 0.4em;box-sizing: border-box;padding-bottom: 0.4em;background-color: white;}#sk-container-id-2 div.sk-label label {font-family: monospace;font-weight: bold;display: inline-block;line-height: 1.2em;}#sk-container-id-2 div.sk-label-container {text-align: center;}#sk-container-id-2 div.sk-container {/* jupyter's `normalize.less` sets `[hidden] { display: none; }` but bootstrap.min.css set `[hidden] { display: none !important; }` so we also need the `!important` here to be able to override the default hidden behavior on the sphinx rendered scikit-learn.org. See: https://github.com/scikit-learn/scikit-learn/issues/21755 */display: inline-block !important;position: relative;}#sk-container-id-2 div.sk-text-repr-fallback {display: none;}</style><div id=\"sk-container-id-2\" class=\"sk-top-container\"><div class=\"sk-text-repr-fallback\"><pre>Pipeline(steps=[(&#x27;columntransformer&#x27;,\n",
       "                 ColumnTransformer(transformers=[(&#x27;standardscaler&#x27;,\n",
       "                                                  StandardScaler(),\n",
       "                                                  [&#x27;age&#x27;, &#x27;bmi&#x27;, &#x27;children&#x27;]),\n",
       "                                                 (&#x27;onehotencoder&#x27;,\n",
       "                                                  OneHotEncoder(handle_unknown=&#x27;ignore&#x27;),\n",
       "                                                  [&#x27;sex&#x27;, &#x27;smoker&#x27;,\n",
       "                                                   &#x27;region&#x27;])])),\n",
       "                (&#x27;linearregression&#x27;, LinearRegression(n_jobs=-1))])</pre><b>In a Jupyter environment, please rerun this cell to show the HTML representation or trust the notebook. <br />On GitHub, the HTML representation is unable to render, please try loading this page with nbviewer.org.</b></div><div class=\"sk-container\" hidden><div class=\"sk-item sk-dashed-wrapped\"><div class=\"sk-label-container\"><div class=\"sk-label sk-toggleable\"><input class=\"sk-toggleable__control sk-hidden--visually\" id=\"sk-estimator-id-8\" type=\"checkbox\" ><label for=\"sk-estimator-id-8\" class=\"sk-toggleable__label sk-toggleable__label-arrow\">Pipeline</label><div class=\"sk-toggleable__content\"><pre>Pipeline(steps=[(&#x27;columntransformer&#x27;,\n",
       "                 ColumnTransformer(transformers=[(&#x27;standardscaler&#x27;,\n",
       "                                                  StandardScaler(),\n",
       "                                                  [&#x27;age&#x27;, &#x27;bmi&#x27;, &#x27;children&#x27;]),\n",
       "                                                 (&#x27;onehotencoder&#x27;,\n",
       "                                                  OneHotEncoder(handle_unknown=&#x27;ignore&#x27;),\n",
       "                                                  [&#x27;sex&#x27;, &#x27;smoker&#x27;,\n",
       "                                                   &#x27;region&#x27;])])),\n",
       "                (&#x27;linearregression&#x27;, LinearRegression(n_jobs=-1))])</pre></div></div></div><div class=\"sk-serial\"><div class=\"sk-item sk-dashed-wrapped\"><div class=\"sk-label-container\"><div class=\"sk-label sk-toggleable\"><input class=\"sk-toggleable__control sk-hidden--visually\" id=\"sk-estimator-id-9\" type=\"checkbox\" ><label for=\"sk-estimator-id-9\" class=\"sk-toggleable__label sk-toggleable__label-arrow\">columntransformer: ColumnTransformer</label><div class=\"sk-toggleable__content\"><pre>ColumnTransformer(transformers=[(&#x27;standardscaler&#x27;, StandardScaler(),\n",
       "                                 [&#x27;age&#x27;, &#x27;bmi&#x27;, &#x27;children&#x27;]),\n",
       "                                (&#x27;onehotencoder&#x27;,\n",
       "                                 OneHotEncoder(handle_unknown=&#x27;ignore&#x27;),\n",
       "                                 [&#x27;sex&#x27;, &#x27;smoker&#x27;, &#x27;region&#x27;])])</pre></div></div></div><div class=\"sk-parallel\"><div class=\"sk-parallel-item\"><div class=\"sk-item\"><div class=\"sk-label-container\"><div class=\"sk-label sk-toggleable\"><input class=\"sk-toggleable__control sk-hidden--visually\" id=\"sk-estimator-id-10\" type=\"checkbox\" ><label for=\"sk-estimator-id-10\" class=\"sk-toggleable__label sk-toggleable__label-arrow\">standardscaler</label><div class=\"sk-toggleable__content\"><pre>[&#x27;age&#x27;, &#x27;bmi&#x27;, &#x27;children&#x27;]</pre></div></div></div><div class=\"sk-serial\"><div class=\"sk-item\"><div class=\"sk-estimator sk-toggleable\"><input class=\"sk-toggleable__control sk-hidden--visually\" id=\"sk-estimator-id-11\" type=\"checkbox\" ><label for=\"sk-estimator-id-11\" class=\"sk-toggleable__label sk-toggleable__label-arrow\">StandardScaler</label><div class=\"sk-toggleable__content\"><pre>StandardScaler()</pre></div></div></div></div></div></div><div class=\"sk-parallel-item\"><div class=\"sk-item\"><div class=\"sk-label-container\"><div class=\"sk-label sk-toggleable\"><input class=\"sk-toggleable__control sk-hidden--visually\" id=\"sk-estimator-id-12\" type=\"checkbox\" ><label for=\"sk-estimator-id-12\" class=\"sk-toggleable__label sk-toggleable__label-arrow\">onehotencoder</label><div class=\"sk-toggleable__content\"><pre>[&#x27;sex&#x27;, &#x27;smoker&#x27;, &#x27;region&#x27;]</pre></div></div></div><div class=\"sk-serial\"><div class=\"sk-item\"><div class=\"sk-estimator sk-toggleable\"><input class=\"sk-toggleable__control sk-hidden--visually\" id=\"sk-estimator-id-13\" type=\"checkbox\" ><label for=\"sk-estimator-id-13\" class=\"sk-toggleable__label sk-toggleable__label-arrow\">OneHotEncoder</label><div class=\"sk-toggleable__content\"><pre>OneHotEncoder(handle_unknown=&#x27;ignore&#x27;)</pre></div></div></div></div></div></div></div></div><div class=\"sk-item\"><div class=\"sk-estimator sk-toggleable\"><input class=\"sk-toggleable__control sk-hidden--visually\" id=\"sk-estimator-id-14\" type=\"checkbox\" ><label for=\"sk-estimator-id-14\" class=\"sk-toggleable__label sk-toggleable__label-arrow\">LinearRegression</label><div class=\"sk-toggleable__content\"><pre>LinearRegression(n_jobs=-1)</pre></div></div></div></div></div></div></div>"
      ],
      "text/plain": [
       "Pipeline(steps=[('columntransformer',\n",
       "                 ColumnTransformer(transformers=[('standardscaler',\n",
       "                                                  StandardScaler(),\n",
       "                                                  ['age', 'bmi', 'children']),\n",
       "                                                 ('onehotencoder',\n",
       "                                                  OneHotEncoder(handle_unknown='ignore'),\n",
       "                                                  ['sex', 'smoker',\n",
       "                                                   'region'])])),\n",
       "                ('linearregression', LinearRegression(n_jobs=-1))])"
      ]
     },
     "execution_count": 28,
     "metadata": {},
     "output_type": "execute_result"
    }
   ],
   "source": [
    "saved_model"
   ]
  },
  {
   "cell_type": "code",
   "execution_count": 29,
   "metadata": {},
   "outputs": [
    {
     "data": {
      "text/plain": [
       "array([ 8969.55027444,  7068.74744287, 36858.41091155,  9454.67850053,\n",
       "       26973.17345656, 10864.11316424,   170.28084136, 16903.45028662,\n",
       "        1092.43093614, 11218.34318352, 28101.68455267,  9377.73460205,\n",
       "        5263.0595179 , 38416.04221107, 40255.82339284, 37098.25353123,\n",
       "       15240.39392306, 35912.88264434,  9112.52398703, 31461.92108909,\n",
       "        3847.68845883, 10130.12001517,  2370.54189389,  7140.21550828,\n",
       "       11301.76782638, 12961.65366224, 14509.47251876,  6159.8976107 ,\n",
       "        9963.85857263,  2177.85718217,  9115.93673493, 13073.68932159,\n",
       "        4561.82376202,  3408.20756033,  4459.81359745, 13032.06505076,\n",
       "        1979.99357292,  8813.28303302, 33271.29124448, 32585.51583927,\n",
       "        3908.76090964,  4326.10774721, 14142.81326533, 11423.45494846,\n",
       "        8774.13955311, 12097.28051001,  5281.57353499,  3150.5596042 ,\n",
       "       35494.46461214,  9150.1124786 , 15836.84575621,  2343.57470069,\n",
       "       12364.78414194,  1482.29488266, 13389.06105161, 12573.57395972,\n",
       "        4341.83680558, 32165.33688042, 13321.3360032 , 12896.82071102,\n",
       "       14167.99421483, 10506.17623512, 16360.78543548,  7763.89824584,\n",
       "       11839.25019431,  4061.19750503, 26652.40230125, 10930.14138671,\n",
       "        2137.41385988,  6209.01123411, 10729.82391284, 11628.3104129 ,\n",
       "       10981.04528946,  9166.50818596, 11954.27732874,  6747.85121734,\n",
       "        7248.5304713 , 10735.16710748,  6580.84819774,  8762.00329355,\n",
       "        3767.13383454, 36632.4975496 ,  6378.11979721, 30842.09248656,\n",
       "       34846.52451051, 35278.07387112,  7019.444352  , 12861.38414264,\n",
       "        9942.30149778, 14473.5260648 , 17693.37304474, 35258.24845137,\n",
       "       33029.58968269,  6185.91730447, 31999.98962535,  9481.33158273,\n",
       "       29444.04271523,  3674.48498404, 28308.26432106,  5823.36495229,\n",
       "        5407.76752001,  1883.4947576 , 11499.675042  , 15075.90690632,\n",
       "       11699.63163008,  4308.82427855,  9895.1840044 , 31708.40056201,\n",
       "         -86.87094667, 32819.71429004,  3280.69178415, 10183.88853878,\n",
       "       14318.76389179, 31642.35684542, 11461.57806791,  3929.23701831,\n",
       "       13107.89313088, 31810.99450607,  8152.02593593,  3238.08417076,\n",
       "        8439.56108376, 10594.63871458, 15219.68736374,  5647.8808143 ,\n",
       "        3781.95285499, 10228.944897  , 10900.12933883, 11122.74845192,\n",
       "       14438.14112575,  7430.31504776,  5386.22676759,  9231.32739901,\n",
       "        9343.76283713, 12538.27606344,  8337.66982683, 15333.36900871,\n",
       "        8411.2145439 , 31797.27496298, 35785.91843418, 31603.71967017,\n",
       "        6011.96229251, 12607.03584641,  6013.5115031 , 14560.79590559,\n",
       "        2493.47989441, 32963.45524228,  6265.14380504,  5034.62173797,\n",
       "       14344.81347407,  6941.1412259 , 38670.01270366,  3087.58741836,\n",
       "        5885.8752536 , 31686.24200595, 11562.61859836,  8476.04749512,\n",
       "       14806.72486264,  9814.46186143, 27105.71831469, 33453.83352069,\n",
       "       14551.8999207 ,  1684.36856768, 13166.96197398,  2222.76894041,\n",
       "        5449.59393727, 11568.96325488, 39807.96912709, 36500.65163031,\n",
       "       34001.37945748,  3897.27856532,  7456.14132125,  8661.82084477,\n",
       "       12450.92458882,  4813.53293089,  2047.65528159, 32112.11251984,\n",
       "       25111.52085938, 17484.27663755, 26411.46181822, 10159.52421   ,\n",
       "       37260.32666386,  -441.23918333,  6779.55013103,  7781.45337795,\n",
       "        4367.95988484,  5105.87170813,  5919.18675042,  4305.71645941,\n",
       "       15191.08806502, 11132.09935114,  6932.80116584,  2525.64793222,\n",
       "        1536.05183213, 31944.78284317, 16414.12251517, 12011.53367195,\n",
       "        1268.05926603, 12531.25953189,  1564.93415917,  8737.33621694,\n",
       "        1873.03940488, 33916.22971211, 10858.38635063,  2603.43633853,\n",
       "       25674.40250332, 26343.43022704,  9430.91152033,  1800.73500777,\n",
       "       13261.42480211,  1120.17810533, 10386.66427709, 10567.29006474,\n",
       "       16944.25995713, 26846.54662457,  6939.11178393,  5193.04710054,\n",
       "        5846.00017265, 13229.60536846, 11098.33930228,  8362.28134289,\n",
       "        5135.53940151, 12308.34064139, 13861.17886997, 35773.70926219,\n",
       "        4157.01930317, 28917.86562624,  -914.37342357,  2873.71150671,\n",
       "       11046.2540774 , 15683.06950225,  5210.67532324,  6888.38518351,\n",
       "        3854.31140958, 31312.64705453,  7241.43226665, 12405.99508651,\n",
       "        5619.17039188,  9528.22557021, 36314.009043  ,  4429.40596906,\n",
       "        9667.91523953, 31161.15738995,  5747.13292318,  4603.37294255,\n",
       "        1048.35533791,  4832.6604097 ,  4574.9041044 ,  6507.30666036,\n",
       "       18659.12407756, -1545.57184934,  2376.4352498 , 10694.62157146,\n",
       "        3151.28919904, 10209.96361187,  3733.89128353,  5125.08103172,\n",
       "       12400.90700504,  6218.65296628,  8231.63765089,  7590.50155269,\n",
       "        8924.15352268, 10482.90359975, 27808.04576398, 39061.50093248,\n",
       "       11761.4991981 ,  7687.56363151, 40920.29151165, 12318.58665305])"
      ]
     },
     "execution_count": 29,
     "metadata": {},
     "output_type": "execute_result"
    }
   ],
   "source": [
    "saved_model.predict(Xtest)"
   ]
  },
  {
   "cell_type": "markdown",
   "metadata": {
    "id": "aTVpZrMJJq0Q"
   },
   "source": [
    "# Gradio Interface"
   ]
  },
  {
   "cell_type": "code",
   "execution_count": 30,
   "metadata": {
    "colab": {
     "base_uri": "https://localhost:8080/"
    },
    "id": "xMloE1BhI4TK",
    "outputId": "ad3debce-2317-4e27-8e5b-e069afba4366"
   },
   "outputs": [
    {
     "name": "stdout",
     "output_type": "stream",
     "text": [
      "Overwriting app.py\n"
     ]
    }
   ],
   "source": [
    "%%writefile app.py\n",
    "import os\n",
    "import uuid\n",
    "import joblib\n",
    "import json\n",
    "\n",
    "import gradio as gr\n",
    "import pandas as pd\n",
    "\n",
    "from huggingface_hub import CommitScheduler\n",
    "from pathlib import Path\n",
    "\n",
    "# Run the training script placed in the same directory as app.py\n",
    "# The training script will train and persist a logistic regression\n",
    "# model with the filename 'model.joblib'\n",
    "os.system(\"python train.py\")\n",
    "\n",
    "# Load the freshly trained model from disk\n",
    "insurance_charge_predictor = joblib.load('model.joblib')\n",
    "\n",
    "# Prepare the logging functionality\n",
    "log_file = Path(\"logs/\") / f\"data_{uuid.uuid4()}.json\"\n",
    "log_folder = log_file.parent\n",
    "\n",
    "scheduler = CommitScheduler(\n",
    "    repo_id=\"insurance-charge-mlops-logs\",\n",
    "    repo_type=\"dataset\",\n",
    "    folder_path=log_folder,\n",
    "    path_in_repo=\"data\",\n",
    "    every=2\n",
    ")\n",
    "\n",
    "# Define the predict function that runs when 'Submit' is clicked or when a API request is made\n",
    "def predict_insurance_charge(age, bmi, children, sex, smoker, region):\n",
    "    sample = {\n",
    "        'age': age,\n",
    "        'bmi': bmi,\n",
    "        'children': children,\n",
    "        'sex': sex,\n",
    "        'smoker': smoker,\n",
    "        'region': region\n",
    "    }\n",
    "\n",
    "    data_point = pd.DataFrame([sample])\n",
    "    prediction = insurance_charge_predictor.predict(data_point).tolist()\n",
    "\n",
    "    # While the prediction is made, log both the inputs and outputs to a local log file\n",
    "    # While writing to the log file, ensure that the commit scheduler is locked to avoid parallel\n",
    "    # access\n",
    "\n",
    "    with scheduler.lock:\n",
    "        with log_file.open(\"a\") as f:\n",
    "            f.write(json.dumps(\n",
    "                {\n",
    "                    'age': age,\n",
    "                    'bmi': bmi,\n",
    "                    'children': children,\n",
    "                    'sex': sex,\n",
    "                    'smoker': smoker,\n",
    "                    'region': region,\n",
    "                    'prediction': prediction[0]\n",
    "                }\n",
    "            ))\n",
    "            f.write(\"\\n\")\n",
    "\n",
    "    return round(prediction[0],2)\n",
    "\n",
    "# Set up UI components for input and output\n",
    "\n",
    "age_input = gr.Number(label='Age')\n",
    "bmi_input = gr.Number(label='BMI')\n",
    "children_input = gr.Number(label='Children')\n",
    "sex_input = gr.Dropdown(['female','male'],label='Sex')\n",
    "smoker_input = gr.Dropdown(['yes','no'],label='Smoker')\n",
    "region_input = gr.Dropdown(['southeast', 'southwest', 'northwest', 'northeast'], label='Region')\n",
    "\n",
    "model_output = gr.Label(label=\"Charges\")\n",
    "\n",
    "# Create the interface\n",
    "demo = gr.Interface(\n",
    "    fn=predict_insurance_charge,\n",
    "    inputs=[age_input, bmi_input, children_input,sex_input, smoker_input, region_input],\n",
    "    outputs=model_output,\n",
    "    title=\"HealthyLife Insurance Charge Prediction\",\n",
    "    description=\"This API allows you to predict the insurance charges based on key customer attributes.\",\n",
    "    concurrency_limit=16\n",
    ")\n",
    "\n",
    "# Launch with a load balancer\n",
    "demo.queue()\n",
    "demo.launch(share=False)"
   ]
  },
  {
   "cell_type": "markdown",
   "metadata": {
    "id": "U7r22COUnPhT"
   },
   "source": [
    "# Online/Batch Inferencing"
   ]
  },
  {
   "cell_type": "markdown",
   "metadata": {
    "id": "khY2e1FzM29z"
   },
   "source": [
    "### Paste your gradio app link\n",
    "\n",
    "*   https://huggingface.co/spaces/Benjnr1000/mlops_with_python\n",
    "\n",
    "Note: Make sure your Hugging Face space repository is set to public. If it's private, the evaluator won't be able to access the app you've built, which could result in losing marks."
   ]
  },
  {
   "cell_type": "code",
   "execution_count": 31,
   "metadata": {
    "id": "AqkyIqoQhORh"
   },
   "outputs": [],
   "source": [
    "# Install the gradio_client package silently\n",
    "!pip install -q gradio_client"
   ]
  },
  {
   "cell_type": "code",
   "execution_count": 32,
   "metadata": {
    "id": "_6hqa3y5hWQ2"
   },
   "outputs": [],
   "source": [
    "# import the libraries\n",
    "import time  # Import the time module for time-related functions\n",
    "from gradio_client import Client  # Import the Gradio client for interacting with Gradio interfaces\n",
    "from sklearn.datasets import fetch_openml  # Import fetch_openml to fetch datasets\n",
    "from sklearn.model_selection import train_test_split  # Import train_test_split for splitting datasets\n",
    "from tqdm import tqdm  # Import tqdm for progress bars"
   ]
  },
  {
   "cell_type": "markdown",
   "metadata": {
    "id": "nHr-lJsMiAr3"
   },
   "source": [
    "## Test Data"
   ]
  },
  {
   "cell_type": "code",
   "execution_count": 33,
   "metadata": {
    "id": "UkgdHHg2hzRg"
   },
   "outputs": [
    {
     "name": "stdout",
     "output_type": "stream",
     "text": [
      "data subsets are being created\n"
     ]
    }
   ],
   "source": [
    "# Read the dataset from the CSV file into a DataFrame\n",
    "df = pd.read_csv(\"insurance.csv\")\n",
    "\n",
    "# Define the target variable\n",
    "target = 'charges'\n",
    "\n",
    "# Define the numeric features used for modeling\n",
    "numeric_features = ['age', 'bmi', 'children']\n",
    "\n",
    "# Define the categorical features used for modeling\n",
    "categorical_features = ['sex', 'smoker', 'region']\n",
    "\n",
    "# Separate features (X) and target variable (y)\n",
    "X = df.drop('charges', axis=1)\n",
    "y = df['charges']\n",
    "\n",
    "# Display a message indicating the creation of data subsets\n",
    "print(\"data subsets are being created\")\n",
    "\n",
    "# Split the dataset into training and testing sets\n",
    "Xtrain, Xtest, ytrain, ytest = train_test_split(\n",
    "    X, y,\n",
    "    test_size=0.2,\n",
    "    random_state=42\n",
    ")"
   ]
  },
  {
   "cell_type": "code",
   "execution_count": 34,
   "metadata": {
    "id": "8polBKfli8zm"
   },
   "outputs": [
    {
     "data": {
      "text/plain": [
       "(268, 7)"
      ]
     },
     "execution_count": 34,
     "metadata": {},
     "output_type": "execute_result"
    }
   ],
   "source": [
    "# Check the shape of the testing features dataset\n",
    "Xtest.shape"
   ]
  },
  {
   "cell_type": "code",
   "execution_count": 35,
   "metadata": {
    "id": "2u29J1KRiZfz"
   },
   "outputs": [
    {
     "data": {
      "text/html": [
       "<div>\n",
       "<style scoped>\n",
       "    .dataframe tbody tr th:only-of-type {\n",
       "        vertical-align: middle;\n",
       "    }\n",
       "\n",
       "    .dataframe tbody tr th {\n",
       "        vertical-align: top;\n",
       "    }\n",
       "\n",
       "    .dataframe thead th {\n",
       "        text-align: right;\n",
       "    }\n",
       "</style>\n",
       "<table border=\"1\" class=\"dataframe\">\n",
       "  <thead>\n",
       "    <tr style=\"text-align: right;\">\n",
       "      <th></th>\n",
       "      <th>index</th>\n",
       "      <th>age</th>\n",
       "      <th>sex</th>\n",
       "      <th>bmi</th>\n",
       "      <th>children</th>\n",
       "      <th>smoker</th>\n",
       "      <th>region</th>\n",
       "    </tr>\n",
       "  </thead>\n",
       "  <tbody>\n",
       "    <tr>\n",
       "      <th>764</th>\n",
       "      <td>764</td>\n",
       "      <td>45</td>\n",
       "      <td>female</td>\n",
       "      <td>25.175</td>\n",
       "      <td>2</td>\n",
       "      <td>no</td>\n",
       "      <td>northeast</td>\n",
       "    </tr>\n",
       "    <tr>\n",
       "      <th>887</th>\n",
       "      <td>887</td>\n",
       "      <td>36</td>\n",
       "      <td>female</td>\n",
       "      <td>30.020</td>\n",
       "      <td>0</td>\n",
       "      <td>no</td>\n",
       "      <td>northwest</td>\n",
       "    </tr>\n",
       "    <tr>\n",
       "      <th>890</th>\n",
       "      <td>890</td>\n",
       "      <td>64</td>\n",
       "      <td>female</td>\n",
       "      <td>26.885</td>\n",
       "      <td>0</td>\n",
       "      <td>yes</td>\n",
       "      <td>northwest</td>\n",
       "    </tr>\n",
       "  </tbody>\n",
       "</table>\n",
       "</div>"
      ],
      "text/plain": [
       "     index  age     sex     bmi  children smoker     region\n",
       "764    764   45  female  25.175         2     no  northeast\n",
       "887    887   36  female  30.020         0     no  northwest\n",
       "890    890   64  female  26.885         0    yes  northwest"
      ]
     },
     "execution_count": 35,
     "metadata": {},
     "output_type": "execute_result"
    }
   ],
   "source": [
    "# Display the first 3 rows of the testing features dataset\n",
    "Xtest.head(3)"
   ]
  },
  {
   "cell_type": "code",
   "execution_count": 37,
   "metadata": {},
   "outputs": [],
   "source": [
    "Xtest = Xtest[['age', 'bmi', 'children', 'sex', 'smoker', 'region']]"
   ]
  },
  {
   "cell_type": "code",
   "execution_count": 38,
   "metadata": {
    "id": "8Lqv_mP3igAN"
   },
   "outputs": [
    {
     "data": {
      "text/plain": [
       "[45, 25.175, 2, 'female', 'no', 'northeast']"
      ]
     },
     "execution_count": 38,
     "metadata": {},
     "output_type": "execute_result"
    }
   ],
   "source": [
    "# Retrieve the values of a specific row (index 764) from the testing features dataset and convert them to a list\n",
    "Xtest.loc[764].tolist()"
   ]
  },
  {
   "cell_type": "code",
   "execution_count": 39,
   "metadata": {
    "id": "J7GEWMhwjCdC"
   },
   "outputs": [],
   "source": [
    "# Randomly sample 100 rows from the testing features dataset\n",
    "Xtest_sample = Xtest.sample(100)"
   ]
  },
  {
   "cell_type": "code",
   "execution_count": 40,
   "metadata": {
    "id": "UsC7wJJPjGhu"
   },
   "outputs": [],
   "source": [
    "# Convert the sampled rows from the DataFrame to a list of tuples\n",
    "Xtest_sample_rows = list(Xtest_sample.itertuples(index= False, name= None))"
   ]
  },
  {
   "cell_type": "code",
   "execution_count": 41,
   "metadata": {
    "id": "4pgM6Xgtj3zj"
   },
   "outputs": [
    {
     "data": {
      "text/plain": [
       "(31, 25.935, 1, 'male', 'no', 'northwest')"
      ]
     },
     "execution_count": 41,
     "metadata": {},
     "output_type": "execute_result"
    }
   ],
   "source": [
    "# Access the first tuple in the list of sampled rows\n",
    "Xtest_sample_rows[0]"
   ]
  },
  {
   "cell_type": "markdown",
   "metadata": {
    "id": "R76BjqoEiQZp"
   },
   "source": [
    "## Inference"
   ]
  },
  {
   "cell_type": "code",
   "execution_count": 42,
   "metadata": {
    "id": "DmLUATIshX8x"
   },
   "outputs": [
    {
     "name": "stdout",
     "output_type": "stream",
     "text": [
      "Loaded as API: https://benjnr1000-mlops-with-python.hf.space ✔\n"
     ]
    }
   ],
   "source": [
    "# Create a Gradio client instance for the specified Gradio interface\n",
    "client = Client(\"Benjnr1000/mlops_with_python\")"
   ]
  },
  {
   "cell_type": "markdown",
   "metadata": {
    "id": "LlNyuobOk-Nz"
   },
   "source": [
    "## Online/Real time"
   ]
  },
  {
   "cell_type": "code",
   "execution_count": 43,
   "metadata": {
    "id": "zwCtvdcqkIG2"
   },
   "outputs": [],
   "source": [
    "# Submit a single data point prediction request to the Gradio interface\n",
    "job = client.predict(\n",
    "    age = 45,\n",
    "    bmi = 25,\n",
    "    children = 4,\n",
    "    sex = \"female\",\n",
    "    smoker = \"no\",\n",
    "    region = \"southeast\",\n",
    "    api_name = \"/predict\"\n",
    ")"
   ]
  },
  {
   "cell_type": "code",
   "execution_count": 44,
   "metadata": {
    "id": "iXPyA3WYkvII"
   },
   "outputs": [
    {
     "name": "stdout",
     "output_type": "stream",
     "text": [
      "{'label': '9103.25', 'confidences': None}\n"
     ]
    }
   ],
   "source": [
    "# Print the result of the prediction job\n",
    "print(job)"
   ]
  },
  {
   "cell_type": "markdown",
   "metadata": {
    "id": "iDORkOkBlNTf"
   },
   "source": [
    "## Batch"
   ]
  },
  {
   "cell_type": "code",
   "execution_count": 45,
   "metadata": {
    "id": "0xGAU0EelVnV"
   },
   "outputs": [],
   "source": [
    "# Initialize an empty list to store batch predictions\n",
    "batch_predictions = []"
   ]
  },
  {
   "cell_type": "code",
   "execution_count": 46,
   "metadata": {
    "id": "0kYU2lspj_h2"
   },
   "outputs": [
    {
     "name": "stderr",
     "output_type": "stream",
     "text": [
      "100%|████████████████████████████████████████████████████████████████████████████████| 100/100 [06:22<00:00,  3.83s/it]\n"
     ]
    }
   ],
   "source": [
    "# Iterate through the sampled rows and submit prediction requests to the Gradio interface\n",
    "# Store the results in batch_predictions list\n",
    "for row in tqdm(Xtest_sample_rows):\n",
    "    try:\n",
    "        # Submit a prediction request for the current row\n",
    "        job = client.submit(\n",
    "            age = row[0],\n",
    "            bmi = row[1],\n",
    "            children = row[2],\n",
    "            sex = row[3],\n",
    "            smoker = row[4],\n",
    "            region = row[5],\n",
    "            api_name = \"/predict\"\n",
    "        )\n",
    "\n",
    "        # Wait for the job to complete and get the result\n",
    "        prediction = job.result()['label']\n",
    "        # Append the prediction result to batch_predictions\n",
    "        batch_predictions.append(int(round(float(prediction))))\n",
    "\n",
    "        # Sleep for 1 second before processing the next row\n",
    "        time.sleep(1)\n",
    "\n",
    "    except Exception as e:\n",
    "        # Print any exceptions that occur during the prediction\n",
    "        print(e)\n"
   ]
  },
  {
   "cell_type": "code",
   "execution_count": 47,
   "metadata": {
    "id": "rZu_UaAznHS2"
   },
   "outputs": [
    {
     "data": {
      "text/plain": [
       "[4814, 10864, 1536, 9231, 1684, 10184, 26973, 13230, 12319, 12097]"
      ]
     },
     "execution_count": 47,
     "metadata": {},
     "output_type": "execute_result"
    }
   ],
   "source": [
    "# Display the first 10 predictions from the batch_predictions list\n",
    "batch_predictions[0:10]"
   ]
  },
  {
   "cell_type": "markdown",
   "metadata": {
    "id": "zP1JzlQMSTg6"
   },
   "source": [
    "# Unit Testing"
   ]
  },
  {
   "cell_type": "markdown",
   "metadata": {
    "id": "jEVa0FtsSGhm"
   },
   "source": [
    "## Setup"
   ]
  },
  {
   "cell_type": "code",
   "execution_count": 48,
   "metadata": {
    "id": "tIQG_KE1RS6Z"
   },
   "outputs": [],
   "source": [
    "# Install the gradio_client package silently using pip\n",
    "!pip install -q gradio_client"
   ]
  },
  {
   "cell_type": "code",
   "execution_count": 49,
   "metadata": {
    "id": "doHAgE2LRiQz"
   },
   "outputs": [],
   "source": [
    "# import the required libraries\n",
    "from gradio_client import Client  # Import the Gradio client for interacting with Gradio interfaces\n",
    "from sklearn.model_selection import train_test_split  # Import train_test_split for splitting datasets\n",
    "from sklearn.metrics import classification_report  # Import classification_report for model evaluation\n",
    "from tqdm import tqdm  # Import tqdm for progress bars"
   ]
  },
  {
   "cell_type": "code",
   "execution_count": 50,
   "metadata": {
    "id": "OpABIcusRvEa"
   },
   "outputs": [
    {
     "name": "stdout",
     "output_type": "stream",
     "text": [
      "Loaded as API: https://benjnr1000-mlops-with-python.hf.space ✔\n"
     ]
    }
   ],
   "source": [
    "client = Client(\"Benjnr1000/mlops_with_python\")"
   ]
  },
  {
   "cell_type": "markdown",
   "metadata": {
    "id": "OHo1oI7KVzYb"
   },
   "source": [
    "## Baseline Checks"
   ]
  },
  {
   "cell_type": "markdown",
   "metadata": {
    "id": "EKUB01C0WAyj"
   },
   "source": [
    "Test Data"
   ]
  },
  {
   "cell_type": "code",
   "execution_count": 51,
   "metadata": {
    "colab": {
     "base_uri": "https://localhost:8080/"
    },
    "id": "VCzBR-eMWC2W",
    "outputId": "2bc60a39-647e-4f98-e1ae-fc690c7fc6e1"
   },
   "outputs": [
    {
     "name": "stdout",
     "output_type": "stream",
     "text": [
      "Creating data subsets\n"
     ]
    }
   ],
   "source": [
    "# Read the insurance dataset from a CSV file into a DataFrame\n",
    "df = pd.read_csv('insurance.csv')\n",
    "\n",
    "# Define the target variable and features\n",
    "target = 'charges'\n",
    "numeric_features = ['age', 'bmi', 'children']\n",
    "categorical_features = ['sex', 'smoker', 'region']\n",
    "\n",
    "# Display a message indicating the creation of data subsets\n",
    "print('Creating data subsets')\n",
    "\n",
    "# Create feature matrix (X) and target vector (y)\n",
    "X = df.drop('charges', axis=1)\n",
    "y = df['charges']\n",
    "\n",
    "# Split the dataset into training and testing sets\n",
    "Xtrain, Xtest, ytrain, ytest = train_test_split(\n",
    "    X, y,\n",
    "    test_size=0.2,\n",
    "    random_state=42\n",
    ")\n",
    "\n",
    "Xtest = Xtest[['age', 'bmi', 'children', 'sex', 'smoker', 'region']]\n",
    "\n",
    "# Sample 100 rows from the testing set for evaluation\n",
    "Xtest_sample = Xtest.sample(100)\n",
    "ytest_sample = ytest.loc[Xtest_sample.index]\n",
    "\n",
    "# Convert the sampled test set into a list of tuples\n",
    "Xtest_sample_rows = list(Xtest_sample.itertuples(index=False, name=None))"
   ]
  },
  {
   "cell_type": "markdown",
   "metadata": {
    "id": "mhF9vyYc_g7x"
   },
   "source": [
    "Predictions on the test data"
   ]
  },
  {
   "cell_type": "code",
   "execution_count": 52,
   "metadata": {
    "id": "q8ZKCrLI8ojC"
   },
   "outputs": [
    {
     "name": "stderr",
     "output_type": "stream",
     "text": [
      "100%|████████████████████████████████████████████████████████████████████████████████| 100/100 [04:43<00:00,  2.84s/it]\n"
     ]
    }
   ],
   "source": [
    "# Initialize an empty list to store baseline test predictions\n",
    "baseline_test_predictions = []\n",
    "\n",
    "# Iterate through the sampled rows and submit prediction requests to the Gradio interface\n",
    "for row in tqdm(Xtest_sample_rows):\n",
    "    try:\n",
    "        # Submit a prediction request for the current row\n",
    "        job = client.submit(\n",
    "            age = row[0],\n",
    "            bmi = row[1],\n",
    "            children = row[2],\n",
    "            sex = row[3],\n",
    "            smoker = row[4],\n",
    "            region = row[5],\n",
    "            api_name = \"/predict\"\n",
    "        )\n",
    "\n",
    "        # Get the prediction result and append it to baseline_test_predictions\n",
    "        prediction = job.result()['label']\n",
    "        baseline_test_predictions.append(int(round(float(prediction))))\n",
    "        # baseline_test_predictions.append(int(prediction))\n",
    "\n",
    "    except Exception as e:\n",
    "        # Print any exceptions that occur during prediction\n",
    "        print(e)"
   ]
  },
  {
   "cell_type": "markdown",
   "metadata": {
    "id": "QCoDzuji_imC"
   },
   "source": [
    "Estimation of accuracy on the test sample. use RMSE and R-squared to measure the performance of the model"
   ]
  },
  {
   "cell_type": "code",
   "execution_count": 53,
   "metadata": {
    "id": "00rW-LbEBxJC"
   },
   "outputs": [
    {
     "name": "stdout",
     "output_type": "stream",
     "text": [
      "RMSE: 5698.160519282826\n"
     ]
    }
   ],
   "source": [
    "print(f\"RMSE: {mean_squared_error(ytest_sample, baseline_test_predictions, squared=False)}\")"
   ]
  },
  {
   "cell_type": "code",
   "execution_count": 54,
   "metadata": {
    "id": "konWIsg7Jw9u"
   },
   "outputs": [
    {
     "name": "stdout",
     "output_type": "stream",
     "text": [
      "R-squared: 0.7514341530312874\n"
     ]
    }
   ],
   "source": [
    "print(f\"R-squared: {r2_score(ytest_sample, baseline_test_predictions)}\")"
   ]
  },
  {
   "cell_type": "markdown",
   "metadata": {
    "id": "aBtvtTxqCAsg"
   },
   "source": [
    "If the Mean Absolute Error (MAE) or Root Mean Square Error (RMSE) is lower than the existing baseline (human or a previous model version), we move on to unit tests."
   ]
  },
  {
   "cell_type": "markdown",
   "metadata": {
    "id": "UYQ9dFH1Sifk"
   },
   "source": [
    "## Unit Tests"
   ]
  },
  {
   "cell_type": "markdown",
   "metadata": {
    "id": "9ODYyMxQSset"
   },
   "source": [
    "### Perturbation tests"
   ]
  },
  {
   "cell_type": "markdown",
   "metadata": {
    "id": "XwyF7v1AUNAJ"
   },
   "source": [
    "*Baseline*"
   ]
  },
  {
   "cell_type": "code",
   "execution_count": 55,
   "metadata": {
    "id": "OnTktOwFRyJC"
   },
   "outputs": [],
   "source": [
    "job = client.submit(\n",
    "    age = 39,\n",
    "    bmi = 20,\n",
    "    children = 2,\n",
    "    sex = \"male\",\n",
    "    smoker = \"no\",\n",
    "    region = \"southwest\",\n",
    "    api_name = \"/predict\"\n",
    ")"
   ]
  },
  {
   "cell_type": "code",
   "execution_count": 56,
   "metadata": {
    "id": "RTGtOIptR2rr"
   },
   "outputs": [
    {
     "name": "stdout",
     "output_type": "stream",
     "text": [
      "4854.85\n"
     ]
    }
   ],
   "source": [
    "print(job.result()['label'])"
   ]
  },
  {
   "cell_type": "markdown",
   "metadata": {
    "id": "g_N9bnY1UUug"
   },
   "source": [
    "*Test (perturbed baseline)*"
   ]
  },
  {
   "cell_type": "code",
   "execution_count": 57,
   "metadata": {
    "id": "797YohbXUWLe"
   },
   "outputs": [],
   "source": [
    "job = client.submit(\n",
    "    age = 41,\n",
    "    bmi = 20,\n",
    "    children = 2,\n",
    "    sex = \"male\",\n",
    "    smoker = \"no\",\n",
    "    region = \"southwest\",\n",
    "    api_name = \"/predict\"\n",
    ")"
   ]
  },
  {
   "cell_type": "code",
   "execution_count": 58,
   "metadata": {
    "id": "dsSSrjx7UZDE"
   },
   "outputs": [
    {
     "name": "stdout",
     "output_type": "stream",
     "text": [
      "5368.8\n"
     ]
    }
   ],
   "source": [
    "print(job.result()['label'])"
   ]
  },
  {
   "cell_type": "markdown",
   "metadata": {
    "id": "jJncHf4GUg0k"
   },
   "source": [
    "### Known edge-cases (criticial subgroups)"
   ]
  },
  {
   "cell_type": "markdown",
   "metadata": {
    "id": "QL375h4NC7Ut"
   },
   "source": [
    "In this scenario, a known edge case is that when a person is smoker , the insurance charge should be high. Let us see if the model can recognize this state."
   ]
  },
  {
   "cell_type": "code",
   "execution_count": 59,
   "metadata": {
    "id": "kmHUHwvNU0aX"
   },
   "outputs": [],
   "source": [
    "job = client.submit(\n",
    "    age = 41,\n",
    "    bmi = 20,\n",
    "    children = 2,\n",
    "    sex = \"male\",\n",
    "    smoker = \"yes\",\n",
    "    region = \"southwest\",\n",
    "    api_name = \"/predict\"\n",
    ")"
   ]
  },
  {
   "cell_type": "code",
   "execution_count": 60,
   "metadata": {
    "id": "9uNLOqyVU7ND"
   },
   "outputs": [
    {
     "name": "stdout",
     "output_type": "stream",
     "text": [
      "29019.93\n"
     ]
    }
   ],
   "source": [
    "print(job.result()['label'])"
   ]
  },
  {
   "cell_type": "markdown",
   "metadata": {
    "id": "_tVEv4avDKof"
   },
   "source": [
    "If the unit tests pass, the model is ready to be tagged for release to staging and production."
   ]
  },
  {
   "cell_type": "markdown",
   "metadata": {
    "id": "Hb23BIvtG2mX"
   },
   "source": [
    "# Identify the driftness in model and data"
   ]
  },
  {
   "cell_type": "markdown",
   "metadata": {
    "id": "BbniRN4uHJm8"
   },
   "source": [
    "## Setup"
   ]
  },
  {
   "cell_type": "code",
   "execution_count": 62,
   "metadata": {
    "id": "XL3gZp3-HLm_"
   },
   "outputs": [],
   "source": [
    "# !pip install -q datasets\n",
    "!pip install -q datasets"
   ]
  },
  {
   "cell_type": "code",
   "execution_count": 63,
   "metadata": {
    "id": "XouCDxIAGM02"
   },
   "outputs": [],
   "source": [
    "# import the required libraries\n",
    "import math\n",
    "\n",
    "import matplotlib.pyplot as plt\n",
    "import seaborn as sns\n",
    "\n",
    "from datasets import load_dataset\n",
    "\n",
    "from sklearn.model_selection import train_test_split\n",
    "from sklearn.metrics import mean_squared_error, r2_score\n",
    "\n",
    "sns.set_context('talk')"
   ]
  },
  {
   "cell_type": "markdown",
   "metadata": {
    "id": "Jgp0N6GvKo93"
   },
   "source": [
    "## Monitoring Setup"
   ]
  },
  {
   "cell_type": "markdown",
   "metadata": {
    "id": "l5U9dw9MH2ut"
   },
   "source": [
    "## Access Training Data"
   ]
  },
  {
   "cell_type": "code",
   "execution_count": 64,
   "metadata": {
    "colab": {
     "base_uri": "https://localhost:8080/"
    },
    "id": "e0c2oV_9H4BB",
    "outputId": "e4b5017c-1c20-4d3a-b10c-81d424cc4fd8"
   },
   "outputs": [
    {
     "name": "stdout",
     "output_type": "stream",
     "text": [
      "Creating data subsets\n"
     ]
    }
   ],
   "source": [
    "# Read the insurance dataset from a CSV file into a DataFrame\n",
    "df = pd.read_csv(\"insurance.csv\")\n",
    "\n",
    "# Define the target variable\n",
    "target = \"charges\"\n",
    "\n",
    "# Define the numeric features used for modeling\n",
    "numeric_features = [\"age\", \"bmi\", \"children\"]\n",
    "\n",
    "# Define the categorical features used for modeling\n",
    "categorical_features = [\"sex\", \"smoker\", \"region\"]\n",
    "\n",
    "# Print a message indicating that data subsets are being created\n",
    "print(\"Creating data subsets\")\n",
    "\n",
    "# Create a variable X by combining numeric and categorical features\n",
    "X = df.drop('charges', axis= 1)\n",
    "\n",
    "# Create the target variable y\n",
    "y = df['charges']\n",
    "\n",
    "# Split the data into training and testing sets\n",
    "Xtrain, Xtest, ytrain, ytest = train_test_split(\n",
    "    X, y,\n",
    "    test_size=0.2,\n",
    "    random_state=42\n",
    ")\n",
    "\n",
    "Xtest = Xtest[['age', 'bmi', 'children', 'sex', 'smoker', 'region']]"
   ]
  },
  {
   "cell_type": "markdown",
   "metadata": {
    "id": "YyFnWVYjHSoV"
   },
   "source": [
    "## Access Logs"
   ]
  },
  {
   "cell_type": "markdown",
   "metadata": {
    "id": "eXg9Xnx0HiLt"
   },
   "source": [
    "We connect to the dataset of all the production logs and extract a 30% random sample to execute the monitoring workflow."
   ]
  },
  {
   "cell_type": "code",
   "execution_count": 65,
   "metadata": {
    "id": "bR3gvxS3HT5D"
   },
   "outputs": [
    {
     "data": {
      "application/vnd.jupyter.widget-view+json": {
       "model_id": "fb62ecfa8ffd41cf999c8b565c4a9053",
       "version_major": 2,
       "version_minor": 0
      },
      "text/plain": [
       "Downloading data:   0%|          | 0.00/13.4k [00:00<?, ?B/s]"
      ]
     },
     "metadata": {},
     "output_type": "display_data"
    },
    {
     "data": {
      "application/vnd.jupyter.widget-view+json": {
       "model_id": "d4f1d99ee475406da6d44bb007943ce9",
       "version_major": 2,
       "version_minor": 0
      },
      "text/plain": [
       "Downloading data:   0%|          | 0.00/13.1k [00:00<?, ?B/s]"
      ]
     },
     "metadata": {},
     "output_type": "display_data"
    },
    {
     "data": {
      "application/vnd.jupyter.widget-view+json": {
       "model_id": "2ae38ea500974bb6a2d8d0c12f5f11e2",
       "version_major": 2,
       "version_minor": 0
      },
      "text/plain": [
       "Generating train split: 0 examples [00:00, ? examples/s]"
      ]
     },
     "metadata": {},
     "output_type": "display_data"
    }
   ],
   "source": [
    "prediction_logs = load_dataset(\"Benjnr1000/insurance-charge-mlops-logs\")"
   ]
  },
  {
   "cell_type": "code",
   "execution_count": 66,
   "metadata": {
    "id": "BGVckeDiHZdo"
   },
   "outputs": [],
   "source": [
    "# Convert the 'train' logs from a Dask DataFrame to a Pandas DataFrame\n",
    "prediction_logs_df = prediction_logs['train'].to_pandas()"
   ]
  },
  {
   "cell_type": "code",
   "execution_count": 67,
   "metadata": {
    "id": "_CDETBvgHZ25"
   },
   "outputs": [],
   "source": [
    "# Sample 30% of the rows from the prediction logs DataFrame with a random state 42\n",
    "prediction_logs_sample_df = prediction_logs_df.sample(frac=0.3, random_state=42)"
   ]
  },
  {
   "cell_type": "code",
   "execution_count": 68,
   "metadata": {
    "id": "Yz5e79YEgRbu"
   },
   "outputs": [
    {
     "data": {
      "text/html": [
       "<div>\n",
       "<style scoped>\n",
       "    .dataframe tbody tr th:only-of-type {\n",
       "        vertical-align: middle;\n",
       "    }\n",
       "\n",
       "    .dataframe tbody tr th {\n",
       "        vertical-align: top;\n",
       "    }\n",
       "\n",
       "    .dataframe thead th {\n",
       "        text-align: right;\n",
       "    }\n",
       "</style>\n",
       "<table border=\"1\" class=\"dataframe\">\n",
       "  <thead>\n",
       "    <tr style=\"text-align: right;\">\n",
       "      <th></th>\n",
       "      <th>age</th>\n",
       "      <th>bmi</th>\n",
       "      <th>children</th>\n",
       "      <th>sex</th>\n",
       "      <th>smoker</th>\n",
       "      <th>region</th>\n",
       "      <th>prediction</th>\n",
       "    </tr>\n",
       "  </thead>\n",
       "  <tbody>\n",
       "    <tr>\n",
       "      <th>174</th>\n",
       "      <td>26</td>\n",
       "      <td>30.875</td>\n",
       "      <td>2</td>\n",
       "      <td>male</td>\n",
       "      <td>no</td>\n",
       "      <td>northwest</td>\n",
       "      <td>5619.170392</td>\n",
       "    </tr>\n",
       "    <tr>\n",
       "      <th>76</th>\n",
       "      <td>63</td>\n",
       "      <td>36.300</td>\n",
       "      <td>0</td>\n",
       "      <td>female</td>\n",
       "      <td>no</td>\n",
       "      <td>southeast</td>\n",
       "      <td>15836.845756</td>\n",
       "    </tr>\n",
       "    <tr>\n",
       "      <th>155</th>\n",
       "      <td>46</td>\n",
       "      <td>32.300</td>\n",
       "      <td>2</td>\n",
       "      <td>female</td>\n",
       "      <td>no</td>\n",
       "      <td>northeast</td>\n",
       "      <td>11628.310413</td>\n",
       "    </tr>\n",
       "    <tr>\n",
       "      <th>96</th>\n",
       "      <td>57</td>\n",
       "      <td>23.980</td>\n",
       "      <td>1</td>\n",
       "      <td>female</td>\n",
       "      <td>no</td>\n",
       "      <td>southeast</td>\n",
       "      <td>10567.290065</td>\n",
       "    </tr>\n",
       "    <tr>\n",
       "      <th>132</th>\n",
       "      <td>60</td>\n",
       "      <td>18.335</td>\n",
       "      <td>0</td>\n",
       "      <td>female</td>\n",
       "      <td>no</td>\n",
       "      <td>northeast</td>\n",
       "      <td>9667.915240</td>\n",
       "    </tr>\n",
       "  </tbody>\n",
       "</table>\n",
       "</div>"
      ],
      "text/plain": [
       "     age     bmi  children     sex smoker     region    prediction\n",
       "174   26  30.875         2    male     no  northwest   5619.170392\n",
       "76    63  36.300         0  female     no  southeast  15836.845756\n",
       "155   46  32.300         2  female     no  northeast  11628.310413\n",
       "96    57  23.980         1  female     no  southeast  10567.290065\n",
       "132   60  18.335         0  female     no  northeast   9667.915240"
      ]
     },
     "execution_count": 68,
     "metadata": {},
     "output_type": "execute_result"
    }
   ],
   "source": [
    "# print the 5 sample data points\n",
    "prediction_logs_sample_df.sample(5)"
   ]
  },
  {
   "cell_type": "markdown",
   "metadata": {
    "id": "q-ELgi6VPF41"
   },
   "source": [
    "## Model Drift Checks"
   ]
  },
  {
   "cell_type": "markdown",
   "metadata": {
    "id": "qeZrIECqLA-K"
   },
   "source": [
    "### Predicted Targets vs Training Targets"
   ]
  },
  {
   "cell_type": "code",
   "execution_count": 69,
   "metadata": {
    "id": "CsxP3oPQLIH3"
   },
   "outputs": [
    {
     "data": {
      "image/png": "[encoded data removed]",
      "text/plain": [
       "<Figure size 1200x600 with 2 Axes>"
      ]
     },
     "metadata": {},
     "output_type": "display_data"
    }
   ],
   "source": [
    "import matplotlib.pyplot as plt\n",
    "import seaborn as sns\n",
    "\n",
    "# Plotting the distributions of actual target values and predicted values\n",
    "plt.figure(figsize=(12, 6))\n",
    "\n",
    "plt.subplot(211)\n",
    "# Plot the histogram with a KDE (Kernel Density Estimation) curve\n",
    "# write your code here\n",
    "sns.histplot(x=ytrain, kde= True, color='blue')\n",
    "plt.title(\"Distribution of actual target values in training data\")\n",
    "plt.xlabel(\"Actual Target Values\")\n",
    "plt.ylabel(\"Frequency\")\n",
    "\n",
    "# Distribution of predicted target values from the deployed model\n",
    "plt.subplot(212)\n",
    "# Plot a histogram with a KDE (Kernel Density Estimation) curve for the predicted values from the sample prediction logs DataFrame\n",
    "# write your code here\n",
    "sns.histplot(prediction_logs_sample_df.prediction, kde= True, color='blue')\n",
    "plt.title(\"Distribution of predicted target values from the deployed model\")\n",
    "plt.xlabel(\"Predicted Target Values\")\n",
    "plt.ylabel(\"Frequency\")\n",
    "\n",
    "plt.tight_layout()\n",
    "plt.show()"
   ]
  },
  {
   "cell_type": "code",
   "execution_count": 70,
   "metadata": {
    "id": "KXAbBSD6gu5k"
   },
   "outputs": [],
   "source": [
    "# Calculate mean of actual values in training data (sum(target y) / len(target y))\n",
    "mean_training_data = (sum(ytrain) / len(ytrain))"
   ]
  },
  {
   "cell_type": "code",
   "execution_count": 71,
   "metadata": {
    "id": "ZYzySK8ghRbL"
   },
   "outputs": [],
   "source": [
    "# Calculate mean of predicted values in sample logs (sum(logs.prediction) / len(logs.prediction))\n",
    "mean_sample_logs = sum(prediction_logs_sample_df.prediction) / len(prediction_logs_sample_df.prediction)"
   ]
  },
  {
   "cell_type": "code",
   "execution_count": 72,
   "metadata": {
    "id": "OOW4FmBkgw6O"
   },
   "outputs": [],
   "source": [
    "# Calculate variance of actual values in training data\n",
    "variance = sum((y - mean_training_data)**2 for y in ytrain) / len(ytrain)"
   ]
  },
  {
   "cell_type": "code",
   "execution_count": 73,
   "metadata": {
    "id": "NHcCLynOhLbu"
   },
   "outputs": [],
   "source": [
    "# Calculate absolute difference between means\n",
    "diff = abs(mean_training_data - mean_sample_logs)"
   ]
  },
  {
   "cell_type": "code",
   "execution_count": 74,
   "metadata": {
    "colab": {
     "base_uri": "https://localhost:8080/"
    },
    "id": "2rlSdxR8SgI1",
    "outputId": "f95b31a8-ad78-4817-fd94-d327a8924687"
   },
   "outputs": [
    {
     "name": "stdout",
     "output_type": "stream",
     "text": [
      "No Model Drift!\n"
     ]
    }
   ],
   "source": [
    "# Check for model drift\n",
    "if diff > 2 * math.sqrt(variance):\n",
    "    print(\"Model Drift Detected!\")\n",
    "else:\n",
    "    print(\"No Model Drift!\")"
   ]
  },
  {
   "cell_type": "markdown",
   "metadata": {
    "id": "YjPEZAWKPuVK"
   },
   "source": [
    "## Data Drift Checks"
   ]
  },
  {
   "cell_type": "markdown",
   "metadata": {
    "id": "rb6-YR-IizG3"
   },
   "source": [
    "### Live Features vs Training Features"
   ]
  },
  {
   "cell_type": "code",
   "execution_count": 75,
   "metadata": {
    "id": "_purGOSINX3N"
   },
   "outputs": [],
   "source": [
    "mean_age_training_data = Xtrain['age'].mean()\n",
    "std_age_training_data = Xtrain['age'].std()\n",
    "\n",
    "mean_age_sample_logs = prediction_logs_sample_df['age'].mean()"
   ]
  },
  {
   "cell_type": "code",
   "execution_count": 76,
   "metadata": {
    "id": "vwW2BDa2jy3l"
   },
   "outputs": [
    {
     "data": {
      "text/plain": [
       "(39.357009345794395, 41.98360655737705)"
      ]
     },
     "execution_count": 76,
     "metadata": {},
     "output_type": "execute_result"
    }
   ],
   "source": [
    "(mean_age_training_data, mean_age_sample_logs)"
   ]
  },
  {
   "cell_type": "code",
   "execution_count": 77,
   "metadata": {
    "id": "AYncqI_SkMuz"
   },
   "outputs": [
    {
     "name": "stdout",
     "output_type": "stream",
     "text": [
      "No Data Drift!\n"
     ]
    }
   ],
   "source": [
    "mean_feature_training_data = 39.35\n",
    "mean_feature_sample_logs = 37.04\n",
    "std_feature_training_data = 14.07\n",
    "\n",
    "mean_diff = abs(mean_age_training_data - mean_age_sample_logs)\n",
    "\n",
    "if mean_diff > 2 * std_feature_training_data:\n",
    "    print(\"Data Drift Detected!\")\n",
    "else:\n",
    "    print(\"No Data Drift!\")"
   ]
  },
  {
   "cell_type": "markdown",
   "metadata": {
    "id": "QWnhVQDqmQ7Y"
   },
   "source": [
    "The current model stays in production unless we detect model drift or data drift."
   ]
  },
  {
   "cell_type": "markdown",
   "metadata": {
    "id": "U2TN5Ik4KzvA"
   },
   "source": [
    "# Convert ipynb to HTML"
   ]
  },
  {
   "cell_type": "markdown",
   "metadata": {
    "id": "VVmwzqQUOnXD"
   },
   "source": [
    "Instructions:\n",
    "1. Go to File\n",
    "2. Download these current working Notebook in to ipynb format\n",
    "3. Now, run the below code, select the notebook from local where you downloaded the file\n",
    "4. Wait for few sec, your notebook will automatically converted in to html format and save in your local pc\n"
   ]
  },
  {
   "cell_type": "code",
   "execution_count": null,
   "metadata": {
    "cellView": "form",
    "id": "LEwxxs0LBivA"
   },
   "outputs": [],
   "source": [
    "# @title HTML Convert\n",
    "# Upload ipynb\n",
    "from google.colab import files\n",
    "f = files.upload()\n",
    "\n",
    "# Convert ipynb to html\n",
    "import subprocess\n",
    "file0 = list(f.keys())[0]\n",
    "_ = subprocess.run([\"pip\", \"install\", \"nbconvert\"])\n",
    "_ = subprocess.run([\"jupyter\", \"nbconvert\", file0, \"--to\", \"html\"])\n",
    "\n",
    "# download the html\n",
    "files.download(file0[:-5]+\"html\")\n"
   ]
  },
  {
   "cell_type": "markdown",
   "metadata": {
    "id": "KM_NcbJvLjhm"
   },
   "source": [
    "## Power Ahead!"
   ]
  }
 ],
 "metadata": {
  "application/vnd.databricks.v1+notebook": {
   "dashboards": [],
   "language": "python",
   "notebookMetadata": {
    "pythonIndentUnit": 4
   },
   "notebookName": "diamond_price_prediction",
   "widgets": {}
  },
  "colab": {
   "collapsed_sections": [
    "_qN9He6rIr6V",
    "aTVpZrMJJq0Q",
    "U7r22COUnPhT",
    "zP1JzlQMSTg6",
    "Hb23BIvtG2mX"
   ],
   "provenance": []
  },
  "kernelspec": {
   "display_name": "Python 3 (ipykernel)",
   "language": "python",
   "name": "python3"
  },
  "language_info": {
   "codemirror_mode": {
    "name": "ipython",
    "version": 3
   },
   "file_extension": ".py",
   "mimetype": "text/x-python",
   "name": "python",
   "nbconvert_exporter": "python",
   "pygments_lexer": "ipython3",
   "version": "3.11.7"
  }
 },
 "nbformat": 4,
 "nbformat_minor": 4
}
